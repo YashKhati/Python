{
 "cells": [
  {
   "cell_type": "markdown",
   "id": "cb7069c9",
   "metadata": {},
   "source": [
    "# NUMPY\n",
    "\n",
    "NumPy is a general-purpose array-processing package. It provides a high-performance multidimensional array object, and tools for working with these arrays. It is the fundamental package for scientific computing with Python"
   ]
  },
  {
   "cell_type": "markdown",
   "id": "9fe2c81a",
   "metadata": {},
   "source": [
    "## Array\n",
    "\n",
    "An array is a data structure that stores values of same data type. In Python, this is the main difference between arrays and lists. While python lists can contain values corresponding to different data types, arrays in python can only contain values corresponding to same data type"
   ]
  },
  {
   "cell_type": "code",
   "execution_count": 2,
   "id": "7e3a9fa7",
   "metadata": {},
   "outputs": [],
   "source": [
    "## importing numpy\n",
    "import numpy as np"
   ]
  },
  {
   "cell_type": "code",
   "execution_count": 3,
   "id": "fa393859",
   "metadata": {},
   "outputs": [],
   "source": [
    "# creating a list\n",
    "my_lst=[1,2,3,4,5]\n",
    "\n",
    "# creating array using list\n",
    "arr = np.array(my_lst)"
   ]
  },
  {
   "cell_type": "code",
   "execution_count": 4,
   "id": "7c9f1692",
   "metadata": {},
   "outputs": [
    {
     "data": {
      "text/plain": [
       "numpy.ndarray"
      ]
     },
     "execution_count": 4,
     "metadata": {},
     "output_type": "execute_result"
    }
   ],
   "source": [
    "type(arr)"
   ]
  },
  {
   "cell_type": "code",
   "execution_count": 5,
   "id": "4871a3af",
   "metadata": {},
   "outputs": [
    {
     "data": {
      "text/plain": [
       "(5,)"
      ]
     },
     "execution_count": 5,
     "metadata": {},
     "output_type": "execute_result"
    }
   ],
   "source": [
    "#shape property show (number of row,number of column) as output\n",
    "arr.shape"
   ]
  },
  {
   "cell_type": "code",
   "execution_count": 6,
   "id": "871b81e4",
   "metadata": {},
   "outputs": [
    {
     "data": {
      "text/plain": [
       "array([1, 2, 3, 4, 5])"
      ]
     },
     "execution_count": 6,
     "metadata": {},
     "output_type": "execute_result"
    }
   ],
   "source": [
    "arr"
   ]
  },
  {
   "cell_type": "code",
   "execution_count": 7,
   "id": "2dce48c7",
   "metadata": {},
   "outputs": [
    {
     "ename": "ValueError",
     "evalue": "cannot reshape array of size 5 into shape (2,1)",
     "output_type": "error",
     "traceback": [
      "\u001b[1;31m---------------------------------------------------------------------------\u001b[0m",
      "\u001b[1;31mValueError\u001b[0m                                Traceback (most recent call last)",
      "Input \u001b[1;32mIn [7]\u001b[0m, in \u001b[0;36m<cell line: 2>\u001b[1;34m()\u001b[0m\n\u001b[0;32m      1\u001b[0m \u001b[38;5;66;03m# reshaping array\u001b[39;00m\n\u001b[1;32m----> 2\u001b[0m \u001b[43marr\u001b[49m\u001b[38;5;241;43m.\u001b[39;49m\u001b[43mreshape\u001b[49m\u001b[43m(\u001b[49m\u001b[38;5;241;43m2\u001b[39;49m\u001b[43m,\u001b[49m\u001b[38;5;241;43m1\u001b[39;49m\u001b[43m)\u001b[49m\n",
      "\u001b[1;31mValueError\u001b[0m: cannot reshape array of size 5 into shape (2,1)"
     ]
    }
   ],
   "source": [
    "# reshaping array\n",
    "arr.reshape(2,1)"
   ]
  },
  {
   "cell_type": "code",
   "execution_count": 8,
   "id": "332c7397",
   "metadata": {},
   "outputs": [],
   "source": [
    "# multidimensional array\n",
    "my_lst1=[1,2,3,4,5]\n",
    "my_lst2=[2,3,4,5,6]\n",
    "my_lst3=[3,4,5,6,7]\n",
    "\n",
    "#creating multidimensional array from 1d array\n",
    "arr1=np.array([my_lst1,my_lst2,my_lst3])"
   ]
  },
  {
   "cell_type": "code",
   "execution_count": 9,
   "id": "1a1ede8a",
   "metadata": {},
   "outputs": [
    {
     "data": {
      "text/plain": [
       "array([[1, 2, 3, 4, 5],\n",
       "       [2, 3, 4, 5, 6],\n",
       "       [3, 4, 5, 6, 7]])"
      ]
     },
     "execution_count": 9,
     "metadata": {},
     "output_type": "execute_result"
    }
   ],
   "source": [
    "arr1"
   ]
  },
  {
   "cell_type": "code",
   "execution_count": 10,
   "id": "555341f0",
   "metadata": {},
   "outputs": [
    {
     "data": {
      "text/plain": [
       "(3, 5)"
      ]
     },
     "execution_count": 10,
     "metadata": {},
     "output_type": "execute_result"
    }
   ],
   "source": [
    "arr1.shape"
   ]
  },
  {
   "cell_type": "code",
   "execution_count": 11,
   "id": "6a4d3f32",
   "metadata": {},
   "outputs": [
    {
     "ename": "ValueError",
     "evalue": "cannot reshape array of size 5 into shape (5,3)",
     "output_type": "error",
     "traceback": [
      "\u001b[1;31m---------------------------------------------------------------------------\u001b[0m",
      "\u001b[1;31mValueError\u001b[0m                                Traceback (most recent call last)",
      "Input \u001b[1;32mIn [11]\u001b[0m, in \u001b[0;36m<cell line: 2>\u001b[1;34m()\u001b[0m\n\u001b[0;32m      1\u001b[0m \u001b[38;5;66;03m# converting array to different array with different dimensions\u001b[39;00m\n\u001b[1;32m----> 2\u001b[0m \u001b[43marr\u001b[49m\u001b[38;5;241;43m.\u001b[39;49m\u001b[43mreshape\u001b[49m\u001b[43m(\u001b[49m\u001b[38;5;241;43m5\u001b[39;49m\u001b[43m,\u001b[49m\u001b[38;5;241;43m3\u001b[39;49m\u001b[43m)\u001b[49m\n",
      "\u001b[1;31mValueError\u001b[0m: cannot reshape array of size 5 into shape (5,3)"
     ]
    }
   ],
   "source": [
    "# converting array to different array with different dimensions\n",
    "arr.reshape(5,3)"
   ]
  },
  {
   "cell_type": "code",
   "execution_count": null,
   "id": "aa795c70",
   "metadata": {},
   "outputs": [],
   "source": [
    "# arr.reshape(num) where num = number of elements in 2D array \n",
    "arr1.reshape(15)"
   ]
  },
  {
   "cell_type": "markdown",
   "id": "7dbd7f99",
   "metadata": {},
   "source": [
    " ## INDEXING"
   ]
  },
  {
   "cell_type": "code",
   "execution_count": 12,
   "id": "18d3c973",
   "metadata": {},
   "outputs": [],
   "source": [
    "#Accessing array elements\n",
    "arr=np.array((1,2,3,4,5,6,7,8,9))"
   ]
  },
  {
   "cell_type": "code",
   "execution_count": 13,
   "id": "84c919f1",
   "metadata": {},
   "outputs": [
    {
     "data": {
      "text/plain": [
       "array([1, 2, 3, 4, 5, 6, 7, 8, 9])"
      ]
     },
     "execution_count": 13,
     "metadata": {},
     "output_type": "execute_result"
    }
   ],
   "source": [
    "arr"
   ]
  },
  {
   "cell_type": "code",
   "execution_count": 14,
   "id": "13f2919f",
   "metadata": {},
   "outputs": [
    {
     "data": {
      "text/plain": [
       "4"
      ]
     },
     "execution_count": 14,
     "metadata": {},
     "output_type": "execute_result"
    }
   ],
   "source": [
    "arr[3]"
   ]
  },
  {
   "cell_type": "code",
   "execution_count": 15,
   "id": "9eda219d",
   "metadata": {},
   "outputs": [
    {
     "data": {
      "text/plain": [
       "array([[1, 2, 3, 4, 5],\n",
       "       [2, 3, 4, 5, 6],\n",
       "       [3, 4, 5, 6, 7]])"
      ]
     },
     "execution_count": 15,
     "metadata": {},
     "output_type": "execute_result"
    }
   ],
   "source": [
    "#indexing in 2D array\n",
    "arr1"
   ]
  },
  {
   "cell_type": "code",
   "execution_count": 16,
   "id": "aec42a1d",
   "metadata": {},
   "outputs": [
    {
     "data": {
      "text/plain": [
       "array([[1, 2, 3, 4, 5],\n",
       "       [2, 3, 4, 5, 6],\n",
       "       [3, 4, 5, 6, 7]])"
      ]
     },
     "execution_count": 16,
     "metadata": {},
     "output_type": "execute_result"
    }
   ],
   "source": [
    "arr1[:,:] \n",
    "# first : is for number of rows and second : is for number of columns"
   ]
  },
  {
   "cell_type": "code",
   "execution_count": 17,
   "id": "8f26e7d1",
   "metadata": {},
   "outputs": [
    {
     "data": {
      "text/plain": [
       "array([[1, 2, 3, 4, 5],\n",
       "       [2, 3, 4, 5, 6]])"
      ]
     },
     "execution_count": 17,
     "metadata": {},
     "output_type": "execute_result"
    }
   ],
   "source": [
    "# printing only 0 and 2 row\n",
    "arr1[0:2 , :]"
   ]
  },
  {
   "cell_type": "code",
   "execution_count": 18,
   "id": "9dd9f10c",
   "metadata": {},
   "outputs": [
    {
     "data": {
      "text/plain": [
       "array([[1, 2, 3, 4, 5],\n",
       "       [2, 3, 4, 5, 6],\n",
       "       [3, 4, 5, 6, 7]])"
      ]
     },
     "execution_count": 18,
     "metadata": {},
     "output_type": "execute_result"
    }
   ],
   "source": [
    "arr1[0:,:] "
   ]
  },
  {
   "cell_type": "code",
   "execution_count": 19,
   "id": "6ac04d82",
   "metadata": {},
   "outputs": [
    {
     "data": {
      "text/plain": [
       "array([[1, 2],\n",
       "       [2, 3]])"
      ]
     },
     "execution_count": 19,
     "metadata": {},
     "output_type": "execute_result"
    }
   ],
   "source": [
    "arr1[0:2,0:2]"
   ]
  },
  {
   "cell_type": "code",
   "execution_count": 20,
   "id": "3ea45308",
   "metadata": {},
   "outputs": [
    {
     "data": {
      "text/plain": [
       "array([[5, 6],\n",
       "       [6, 7]])"
      ]
     },
     "execution_count": 20,
     "metadata": {},
     "output_type": "execute_result"
    }
   ],
   "source": [
    "arr1[1:,3:]"
   ]
  },
  {
   "cell_type": "code",
   "execution_count": 23,
   "id": "f82d85b8",
   "metadata": {},
   "outputs": [
    {
     "data": {
      "text/plain": [
       "array([[4, 5],\n",
       "       [5, 6]])"
      ]
     },
     "execution_count": 23,
     "metadata": {},
     "output_type": "execute_result"
    }
   ],
   "source": [
    "arr1[1:,2:4]"
   ]
  },
  {
   "cell_type": "code",
   "execution_count": 27,
   "id": "4802acf9",
   "metadata": {},
   "outputs": [
    {
     "data": {
      "text/plain": [
       "array([[3, 4, 5]])"
      ]
     },
     "execution_count": 27,
     "metadata": {},
     "output_type": "execute_result"
    }
   ],
   "source": [
    "arr1[1:2, 1:4]"
   ]
  },
  {
   "cell_type": "markdown",
   "id": "2000a007",
   "metadata": {},
   "source": [
    "## Inbuilt functions in Numpy for Arrrays"
   ]
  },
  {
   "cell_type": "code",
   "execution_count": 28,
   "id": "47408a56",
   "metadata": {},
   "outputs": [],
   "source": [
    "# creating array having elements from start to end-1\n",
    "arr2=np.arange(0,10)"
   ]
  },
  {
   "cell_type": "code",
   "execution_count": 29,
   "id": "9eb507d4",
   "metadata": {},
   "outputs": [
    {
     "data": {
      "text/plain": [
       "array([0, 1, 2, 3, 4, 5, 6, 7, 8, 9])"
      ]
     },
     "execution_count": 29,
     "metadata": {},
     "output_type": "execute_result"
    }
   ],
   "source": [
    "arr2"
   ]
  },
  {
   "cell_type": "code",
   "execution_count": 30,
   "id": "a02da9f5",
   "metadata": {},
   "outputs": [],
   "source": [
    "# # creating array having elements from start to end-1 with gap of 2\n",
    "arr2=np.arange(0,10,2)"
   ]
  },
  {
   "cell_type": "code",
   "execution_count": 31,
   "id": "d7b0a8f4",
   "metadata": {},
   "outputs": [
    {
     "data": {
      "text/plain": [
       "array([0, 2, 4, 6, 8])"
      ]
     },
     "execution_count": 31,
     "metadata": {},
     "output_type": "execute_result"
    }
   ],
   "source": [
    "arr2"
   ]
  },
  {
   "cell_type": "code",
   "execution_count": 32,
   "id": "a0f27ec0",
   "metadata": {},
   "outputs": [
    {
     "data": {
      "text/plain": [
       "array([ 1.        ,  1.47368421,  1.94736842,  2.42105263,  2.89473684,\n",
       "        3.36842105,  3.84210526,  4.31578947,  4.78947368,  5.26315789,\n",
       "        5.73684211,  6.21052632,  6.68421053,  7.15789474,  7.63157895,\n",
       "        8.10526316,  8.57894737,  9.05263158,  9.52631579, 10.        ])"
      ]
     },
     "execution_count": 32,
     "metadata": {},
     "output_type": "execute_result"
    }
   ],
   "source": [
    "# creating array having elements between 1 and 10-1(9) and having  20-2(18) equidistant elements between them\n",
    "np.linspace(1,10,20)"
   ]
  },
  {
   "cell_type": "code",
   "execution_count": 35,
   "id": "1a477f9e",
   "metadata": {},
   "outputs": [],
   "source": [
    "# creating array\n",
    "arr2=np.array([1,2,3,4,5,6,7,8,9,10])"
   ]
  },
  {
   "cell_type": "code",
   "execution_count": 38,
   "id": "ce293d24",
   "metadata": {},
   "outputs": [
    {
     "data": {
      "text/plain": [
       "array([ 1,  2,  3,  4,  5,  6,  7,  8,  9, 10])"
      ]
     },
     "execution_count": 38,
     "metadata": {},
     "output_type": "execute_result"
    }
   ],
   "source": [
    "arr2"
   ]
  },
  {
   "cell_type": "markdown",
   "id": "899511a4",
   "metadata": {},
   "source": [
    "## Copy function and broadcasting"
   ]
  },
  {
   "cell_type": "code",
   "execution_count": 47,
   "id": "65d0336c",
   "metadata": {},
   "outputs": [],
   "source": [
    "# from 3 index making all elements 100\n",
    "arr2[3:]=100"
   ]
  },
  {
   "cell_type": "code",
   "execution_count": 48,
   "id": "bf20d096",
   "metadata": {},
   "outputs": [
    {
     "data": {
      "text/plain": [
       "array([  1,   2,   3, 100, 100, 100, 100, 100, 100, 100])"
      ]
     },
     "execution_count": 48,
     "metadata": {},
     "output_type": "execute_result"
    }
   ],
   "source": [
    "arr2"
   ]
  },
  {
   "cell_type": "code",
   "execution_count": 49,
   "id": "1714edeb",
   "metadata": {},
   "outputs": [],
   "source": [
    "arr3=arr2 # both arr3 and arr2 reference to same array object "
   ]
  },
  {
   "cell_type": "code",
   "execution_count": 50,
   "id": "d3e526f3",
   "metadata": {},
   "outputs": [
    {
     "name": "stdout",
     "output_type": "stream",
     "text": [
      "[  1   2   3 500 500 500 500 500 500 500]\n"
     ]
    }
   ],
   "source": [
    "arr3[3:]=500\n",
    "print(arr3)"
   ]
  },
  {
   "cell_type": "code",
   "execution_count": 46,
   "id": "92a76d25",
   "metadata": {},
   "outputs": [
    {
     "name": "stdout",
     "output_type": "stream",
     "text": [
      "[  1   2   3 500 500 500 500 500 500 500]\n"
     ]
    }
   ],
   "source": [
    "print(arr2)"
   ]
  },
  {
   "cell_type": "code",
   "execution_count": 55,
   "id": "4585ee46",
   "metadata": {},
   "outputs": [],
   "source": [
    "# To solve above reference problem of array we have copy function\n",
    "arr3=arr2.copy() # arr3 have copy of arr2 as pass by value(new memory)"
   ]
  },
  {
   "cell_type": "code",
   "execution_count": 56,
   "id": "9164d2e6",
   "metadata": {},
   "outputs": [
    {
     "name": "stdout",
     "output_type": "stream",
     "text": [
      "[  1   2   3 500 500 500 500 500 500 500]\n",
      "[  1   2   3 500 500 500 500 500 500 500]\n"
     ]
    }
   ],
   "source": [
    "print(arr2)\n",
    "print(arr3)\n",
    "arr3[3:]=88"
   ]
  },
  {
   "cell_type": "code",
   "execution_count": 57,
   "id": "11453a37",
   "metadata": {},
   "outputs": [
    {
     "name": "stdout",
     "output_type": "stream",
     "text": [
      "[ 1  2  3 88 88 88 88 88 88 88]\n",
      "[  1   2   3 500 500 500 500 500 500 500]\n"
     ]
    }
   ],
   "source": [
    "print(arr3)\n",
    "print(arr2)"
   ]
  },
  {
   "cell_type": "markdown",
   "id": "3479570f",
   "metadata": {},
   "source": [
    "### Condition useful for data analysis"
   ]
  },
  {
   "cell_type": "code",
   "execution_count": 58,
   "id": "a9f19a16",
   "metadata": {},
   "outputs": [
    {
     "data": {
      "text/plain": [
       "array([1, 2, 3, 4, 5, 6, 7, 8, 9])"
      ]
     },
     "execution_count": 58,
     "metadata": {},
     "output_type": "execute_result"
    }
   ],
   "source": [
    "arr"
   ]
  },
  {
   "cell_type": "code",
   "execution_count": 60,
   "id": "6de59dbc",
   "metadata": {},
   "outputs": [
    {
     "data": {
      "text/plain": [
       "array([ True, False, False, False, False, False, False, False, False])"
      ]
     },
     "execution_count": 60,
     "metadata": {},
     "output_type": "execute_result"
    }
   ],
   "source": [
    "val=2\n",
    "arr<2  # all values less then in array will show true"
   ]
  },
  {
   "cell_type": "code",
   "execution_count": 64,
   "id": "e4855d20",
   "metadata": {},
   "outputs": [
    {
     "data": {
      "text/plain": [
       "array([ 2,  4,  6,  8, 10, 12, 14, 16, 18])"
      ]
     },
     "execution_count": 64,
     "metadata": {},
     "output_type": "execute_result"
    }
   ],
   "source": [
    "# all elements multiplied by true but values in original array are  not updated\n",
    "arr*2"
   ]
  },
  {
   "cell_type": "code",
   "execution_count": 65,
   "id": "cb2fea58",
   "metadata": {},
   "outputs": [
    {
     "data": {
      "text/plain": [
       "array([1, 2, 3, 4, 5, 6, 7, 8, 9])"
      ]
     },
     "execution_count": 65,
     "metadata": {},
     "output_type": "execute_result"
    }
   ],
   "source": [
    "arr"
   ]
  },
  {
   "cell_type": "code",
   "execution_count": 63,
   "id": "d4960cc2",
   "metadata": {},
   "outputs": [
    {
     "data": {
      "text/plain": [
       "array([0.5, 1. , 1.5, 2. , 2.5, 3. , 3.5, 4. , 4.5])"
      ]
     },
     "execution_count": 63,
     "metadata": {},
     "output_type": "execute_result"
    }
   ],
   "source": [
    "# all elements divided by true\n",
    "arr/2"
   ]
  },
  {
   "cell_type": "code",
   "execution_count": 66,
   "id": "23986feb",
   "metadata": {},
   "outputs": [
    {
     "data": {
      "text/plain": [
       "array([1, 0, 1, 0, 1, 0, 1, 0, 1], dtype=int32)"
      ]
     },
     "execution_count": 66,
     "metadata": {},
     "output_type": "execute_result"
    }
   ],
   "source": [
    "arr%2"
   ]
  },
  {
   "cell_type": "code",
   "execution_count": 68,
   "id": "f4882b2b",
   "metadata": {},
   "outputs": [
    {
     "data": {
      "text/plain": [
       "array([1, 2, 3, 4, 5])"
      ]
     },
     "execution_count": 68,
     "metadata": {},
     "output_type": "execute_result"
    }
   ],
   "source": [
    "# displaying the elements which are less than val\n",
    "val=6\n",
    "arr[arr<val]"
   ]
  },
  {
   "cell_type": "code",
   "execution_count": 76,
   "id": "d59df9a3",
   "metadata": {},
   "outputs": [],
   "source": [
    "arr=np.arange(0,10).reshape(2,5)"
   ]
  },
  {
   "cell_type": "code",
   "execution_count": 77,
   "id": "c929cfdb",
   "metadata": {},
   "outputs": [
    {
     "data": {
      "text/plain": [
       "array([[0, 1, 2, 3, 4],\n",
       "       [5, 6, 7, 8, 9]])"
      ]
     },
     "execution_count": 77,
     "metadata": {},
     "output_type": "execute_result"
    }
   ],
   "source": [
    "arr"
   ]
  },
  {
   "cell_type": "code",
   "execution_count": 78,
   "id": "c88b37aa",
   "metadata": {},
   "outputs": [],
   "source": [
    "arr=np.arange(0,10).reshape(5,2)"
   ]
  },
  {
   "cell_type": "code",
   "execution_count": 79,
   "id": "ad7c4e05",
   "metadata": {},
   "outputs": [
    {
     "data": {
      "text/plain": [
       "array([[0, 1],\n",
       "       [2, 3],\n",
       "       [4, 5],\n",
       "       [6, 7],\n",
       "       [8, 9]])"
      ]
     },
     "execution_count": 79,
     "metadata": {},
     "output_type": "execute_result"
    }
   ],
   "source": [
    "arr"
   ]
  },
  {
   "cell_type": "code",
   "execution_count": 80,
   "id": "ec8bb366",
   "metadata": {},
   "outputs": [
    {
     "data": {
      "text/plain": [
       "array([1., 1., 1., 1., 1.])"
      ]
     },
     "execution_count": 80,
     "metadata": {},
     "output_type": "execute_result"
    }
   ],
   "source": [
    "# Creating 1D array with only 1  n times (default data type float)\n",
    "np.ones(5)"
   ]
  },
  {
   "cell_type": "code",
   "execution_count": 83,
   "id": "2f51ec8c",
   "metadata": {},
   "outputs": [
    {
     "data": {
      "text/plain": [
       "array([1, 1, 1, 1, 1])"
      ]
     },
     "execution_count": 83,
     "metadata": {},
     "output_type": "execute_result"
    }
   ],
   "source": [
    "# Creating 1D array with only 1  n times ( data type = int)\n",
    "np.ones(5,dtype=int)"
   ]
  },
  {
   "cell_type": "code",
   "execution_count": 84,
   "id": "fbc87ad1",
   "metadata": {},
   "outputs": [
    {
     "data": {
      "text/plain": [
       "array([[1, 1, 1, 1, 1],\n",
       "       [1, 1, 1, 1, 1]])"
      ]
     },
     "execution_count": 84,
     "metadata": {},
     "output_type": "execute_result"
    }
   ],
   "source": [
    "# Creating 2D array with only 1  n times ( data type = int)\n",
    "np.ones((2,5),dtype=int)"
   ]
  },
  {
   "cell_type": "code",
   "execution_count": 86,
   "id": "a2279d48",
   "metadata": {},
   "outputs": [
    {
     "data": {
      "text/plain": [
       "array([[1., 1., 1., 1., 1.],\n",
       "       [1., 1., 1., 1., 1.]])"
      ]
     },
     "execution_count": 86,
     "metadata": {},
     "output_type": "execute_result"
    }
   ],
   "source": [
    "np.ones((2,5)) # default data type float"
   ]
  },
  {
   "cell_type": "code",
   "execution_count": 89,
   "id": "5a68399b",
   "metadata": {},
   "outputs": [
    {
     "data": {
      "text/plain": [
       "array([[0.48161545, 0.52011648, 0.26690473],\n",
       "       [0.49141914, 0.18585436, 0.36643803],\n",
       "       [0.55390719, 0.15031855, 0.97604824]])"
      ]
     },
     "execution_count": 89,
     "metadata": {},
     "output_type": "execute_result"
    }
   ],
   "source": [
    "# Creating array with random values between 0 t0 1\n",
    "np.random.rand(3,3)"
   ]
  },
  {
   "cell_type": "code",
   "execution_count": 90,
   "id": "dc5cdbb0",
   "metadata": {},
   "outputs": [
    {
     "data": {
      "text/plain": [
       "array([0.22232529, 0.65778636, 0.76032383])"
      ]
     },
     "execution_count": 90,
     "metadata": {},
     "output_type": "execute_result"
    }
   ],
   "source": [
    "np.random.rand(3)"
   ]
  },
  {
   "cell_type": "code",
   "execution_count": 93,
   "id": "c1f33586",
   "metadata": {},
   "outputs": [
    {
     "data": {
      "text/plain": [
       "array([[[0.37392745, 0.08052934, 0.87364653],\n",
       "        [0.72111377, 0.62446076, 0.90498549],\n",
       "        [0.63219143, 0.89563138, 0.30723264]],\n",
       "\n",
       "       [[0.66257853, 0.20505245, 0.26983263],\n",
       "        [0.85457949, 0.09823922, 0.89870723],\n",
       "        [0.16931033, 0.98074261, 0.50472127]],\n",
       "\n",
       "       [[0.13788711, 0.09654377, 0.40576569],\n",
       "        [0.36620013, 0.88259474, 0.66567936],\n",
       "        [0.50554839, 0.00919864, 0.1281347 ]]])"
      ]
     },
     "execution_count": 93,
     "metadata": {},
     "output_type": "execute_result"
    }
   ],
   "source": [
    "np.random.rand(3,3,3)"
   ]
  },
  {
   "cell_type": "code",
   "execution_count": 95,
   "id": "d518ca08",
   "metadata": {},
   "outputs": [],
   "source": [
    "# Creating array with standard normal distribution\n",
    "arr_ex=np.random.randn(4,4)"
   ]
  },
  {
   "cell_type": "code",
   "execution_count": 98,
   "id": "e52b7f49",
   "metadata": {},
   "outputs": [
    {
     "data": {
      "text/plain": [
       "array([[ 0.02320966, -0.59308645, -0.74152293, -1.9841902 ],\n",
       "       [ 0.77703438, -0.28611551,  1.93766813,  0.94109776],\n",
       "       [ 2.38611371, -0.55548014, -0.50051138, -0.41759278],\n",
       "       [-0.93621337,  1.63083938, -0.51031356,  0.23976542]])"
      ]
     },
     "execution_count": 98,
     "metadata": {},
     "output_type": "execute_result"
    }
   ],
   "source": [
    "arr_ex"
   ]
  },
  {
   "cell_type": "code",
   "execution_count": 108,
   "id": "e045f9ea",
   "metadata": {},
   "outputs": [
    {
     "data": {
      "text/plain": [
       "array([50, 50, 13, 21, 86, 16, 45, 82, 44, 89, 29, 43, 94, 77, 92])"
      ]
     },
     "execution_count": 108,
     "metadata": {},
     "output_type": "execute_result"
    }
   ],
   "source": [
    "# Creating array with n random values between range\n",
    "np.random.randint(0,100,15) # 15 random values from 0 to 99"
   ]
  },
  {
   "cell_type": "code",
   "execution_count": 109,
   "id": "2207f7e0",
   "metadata": {},
   "outputs": [
    {
     "data": {
      "text/plain": [
       "array([[ 7, 81, 28, 28,  4],\n",
       "       [26, 26,  0, 44, 53],\n",
       "       [94, 53, 90, 50, 58]])"
      ]
     },
     "execution_count": 109,
     "metadata": {},
     "output_type": "execute_result"
    }
   ],
   "source": [
    "np.random.randint(0,100,15).reshape(3,5)"
   ]
  }
 ],
 "metadata": {
  "kernelspec": {
   "display_name": "Python 3 (ipykernel)",
   "language": "python",
   "name": "python3"
  },
  "language_info": {
   "codemirror_mode": {
    "name": "ipython",
    "version": 3
   },
   "file_extension": ".py",
   "mimetype": "text/x-python",
   "name": "python",
   "nbconvert_exporter": "python",
   "pygments_lexer": "ipython3",
   "version": "3.9.12"
  }
 },
 "nbformat": 4,
 "nbformat_minor": 5
}
