{
 "cells": [
  {
   "cell_type": "markdown",
   "id": "5a9a3bde",
   "metadata": {},
   "source": [
    "## SETS\n",
    "\n",
    "A Set is an unordered collection data type that is iterable, mutable, and has no duplicate elements. Python's set class represents the mathematical notion of a set.This is based on a data structure known as a hash table"
   ]
  },
  {
   "cell_type": "code",
   "execution_count": 1,
   "id": "82d759fa",
   "metadata": {},
   "outputs": [
    {
     "name": "stdout",
     "output_type": "stream",
     "text": [
      "set()\n",
      "<class 'set'>\n"
     ]
    }
   ],
   "source": [
    "# defining empty Set\n",
    "set_var=set()\n",
    "print(set_var)\n",
    "print(type(set_var))"
   ]
  },
  {
   "cell_type": "code",
   "execution_count": 8,
   "id": "b6f82b8e",
   "metadata": {},
   "outputs": [],
   "source": [
    "set_var={1,2,3,4,3}"
   ]
  },
  {
   "cell_type": "code",
   "execution_count": 9,
   "id": "7ab49ecf",
   "metadata": {},
   "outputs": [
    {
     "data": {
      "text/plain": [
       "{1, 2, 3, 4}"
      ]
     },
     "execution_count": 9,
     "metadata": {},
     "output_type": "execute_result"
    }
   ],
   "source": [
    "set_var"
   ]
  },
  {
   "cell_type": "code",
   "execution_count": 10,
   "id": "8a3f71a3",
   "metadata": {},
   "outputs": [
    {
     "name": "stdout",
     "output_type": "stream",
     "text": [
      "{'Yash', 'Ayush', 'Nitin'}\n",
      "<class 'set'>\n"
     ]
    }
   ],
   "source": [
    "set_var={\"Yash\",\"Ayush\",\"Nitin\"}\n",
    "print(set_var);\n",
    "print(type(set_var))"
   ]
  },
  {
   "cell_type": "code",
   "execution_count": 16,
   "id": "c31fae94",
   "metadata": {},
   "outputs": [
    {
     "ename": "TypeError",
     "evalue": "'set' object is not subscriptable",
     "output_type": "error",
     "traceback": [
      "\u001b[1;31m---------------------------------------------------------------------------\u001b[0m",
      "\u001b[1;31mTypeError\u001b[0m                                 Traceback (most recent call last)",
      "Input \u001b[1;32mIn [16]\u001b[0m, in \u001b[0;36m<cell line: 1>\u001b[1;34m()\u001b[0m\n\u001b[1;32m----> 1\u001b[0m \u001b[43mset_var\u001b[49m\u001b[43m[\u001b[49m\u001b[38;5;241;43m0\u001b[39;49m\u001b[43m]\u001b[49m\n",
      "\u001b[1;31mTypeError\u001b[0m: 'set' object is not subscriptable"
     ]
    }
   ],
   "source": [
    "set_var[0]\n"
   ]
  },
  {
   "cell_type": "code",
   "execution_count": 17,
   "id": "3d703868",
   "metadata": {},
   "outputs": [
    {
     "ename": "TypeError",
     "evalue": "'set' object is not subscriptable",
     "output_type": "error",
     "traceback": [
      "\u001b[1;31m---------------------------------------------------------------------------\u001b[0m",
      "\u001b[1;31mTypeError\u001b[0m                                 Traceback (most recent call last)",
      "Input \u001b[1;32mIn [17]\u001b[0m, in \u001b[0;36m<cell line: 1>\u001b[1;34m()\u001b[0m\n\u001b[1;32m----> 1\u001b[0m \u001b[43mset_var\u001b[49m\u001b[43m[\u001b[49m\u001b[38;5;124;43m\"\u001b[39;49m\u001b[38;5;124;43mYash\u001b[39;49m\u001b[38;5;124;43m\"\u001b[39;49m\u001b[43m]\u001b[49m\n",
      "\u001b[1;31mTypeError\u001b[0m: 'set' object is not subscriptable"
     ]
    }
   ],
   "source": [
    "set_var[\"Yash\"]\n"
   ]
  },
  {
   "cell_type": "markdown",
   "id": "924b3321",
   "metadata": {},
   "source": [
    "## Inbuilt Function in Sets"
   ]
  },
  {
   "cell_type": "markdown",
   "id": "7e8a9069",
   "metadata": {},
   "source": [
    "### Add method"
   ]
  },
  {
   "cell_type": "code",
   "execution_count": 20,
   "id": "d1ccca54",
   "metadata": {},
   "outputs": [
    {
     "name": "stdout",
     "output_type": "stream",
     "text": [
      "{'Hulk', 'Yash', 'Ayush', 'Nitin'}\n"
     ]
    }
   ],
   "source": [
    "set_var.add(\"Hulk\");\n",
    "print(set_var)"
   ]
  },
  {
   "cell_type": "code",
   "execution_count": 43,
   "id": "28560557",
   "metadata": {},
   "outputs": [],
   "source": [
    "set1={\"Avengers\",\"Ironman\",\"Hitman\"}\n",
    "set2={\"Avengers\",\"Ironman\",\"Hitman\",\"Hulk\"}"
   ]
  },
  {
   "cell_type": "markdown",
   "id": "920230ca",
   "metadata": {},
   "source": [
    "### Difference Method"
   ]
  },
  {
   "cell_type": "code",
   "execution_count": 23,
   "id": "13231afa",
   "metadata": {},
   "outputs": [
    {
     "data": {
      "text/plain": [
       "{'Hulk'}"
      ]
     },
     "execution_count": 23,
     "metadata": {},
     "output_type": "execute_result"
    }
   ],
   "source": [
    "# Only show the difference between Sets\n",
    "set2.difference(set1)"
   ]
  },
  {
   "cell_type": "code",
   "execution_count": 24,
   "id": "7c1395cf",
   "metadata": {},
   "outputs": [
    {
     "data": {
      "text/plain": [
       "{'Avengers', 'Hitman', 'Hulk', 'Ironman'}"
      ]
     },
     "execution_count": 24,
     "metadata": {},
     "output_type": "execute_result"
    }
   ],
   "source": [
    "set2"
   ]
  },
  {
   "cell_type": "code",
   "execution_count": 25,
   "id": "d16b835a",
   "metadata": {},
   "outputs": [],
   "source": [
    "# Show Difference between two Set and Update the set\n",
    "set2.difference_update(set1)"
   ]
  },
  {
   "cell_type": "code",
   "execution_count": 26,
   "id": "da47f503",
   "metadata": {},
   "outputs": [
    {
     "data": {
      "text/plain": [
       "{'Hulk'}"
      ]
     },
     "execution_count": 26,
     "metadata": {},
     "output_type": "execute_result"
    }
   ],
   "source": [
    "set2"
   ]
  },
  {
   "cell_type": "markdown",
   "id": "cb363acf",
   "metadata": {},
   "source": [
    "### Intersection method"
   ]
  },
  {
   "cell_type": "code",
   "execution_count": 44,
   "id": "0f231a67",
   "metadata": {},
   "outputs": [],
   "source": [
    "set1={\"Avengers\",\"Ironman\",\"Hitman\"}\n",
    "set2={\"Avengers\",\"Ironman\",\"Hitman\",\"Hulk\"}"
   ]
  },
  {
   "cell_type": "code",
   "execution_count": 46,
   "id": "6df17a41",
   "metadata": {},
   "outputs": [
    {
     "name": "stdout",
     "output_type": "stream",
     "text": [
      "{'Ironman', 'Hitman', 'Avengers'}\n",
      "{'Hulk', 'Ironman', 'Hitman', 'Avengers'}\n"
     ]
    }
   ],
   "source": [
    "print(set1)\n",
    "print(set2)"
   ]
  },
  {
   "cell_type": "code",
   "execution_count": 47,
   "id": "995fc8c6",
   "metadata": {},
   "outputs": [
    {
     "data": {
      "text/plain": [
       "{'Avengers', 'Hitman', 'Ironman'}"
      ]
     },
     "execution_count": 47,
     "metadata": {},
     "output_type": "execute_result"
    }
   ],
   "source": [
    "set2.intersection(set1)"
   ]
  },
  {
   "cell_type": "code",
   "execution_count": 48,
   "id": "ce77fa95",
   "metadata": {},
   "outputs": [],
   "source": [
    "set2.intersection_update(set1)"
   ]
  },
  {
   "cell_type": "code",
   "execution_count": 49,
   "id": "5d6c7ae5",
   "metadata": {},
   "outputs": [
    {
     "data": {
      "text/plain": [
       "{'Avengers', 'Hitman', 'Ironman'}"
      ]
     },
     "execution_count": 49,
     "metadata": {},
     "output_type": "execute_result"
    }
   ],
   "source": [
    "set2"
   ]
  },
  {
   "cell_type": "markdown",
   "id": "6f1eea8e",
   "metadata": {},
   "source": [
    "### Pop and IsSubset method"
   ]
  },
  {
   "cell_type": "code",
   "execution_count": 50,
   "id": "67ea1cb0",
   "metadata": {},
   "outputs": [
    {
     "data": {
      "text/plain": [
       "True"
      ]
     },
     "execution_count": 50,
     "metadata": {},
     "output_type": "execute_result"
    }
   ],
   "source": [
    "set1.issubset(set2)"
   ]
  },
  {
   "cell_type": "code",
   "execution_count": 54,
   "id": "0f93bd7f",
   "metadata": {},
   "outputs": [
    {
     "data": {
      "text/plain": [
       "'Ironman'"
      ]
     },
     "execution_count": 54,
     "metadata": {},
     "output_type": "execute_result"
    }
   ],
   "source": [
    "set1.pop()"
   ]
  },
  {
   "cell_type": "code",
   "execution_count": 57,
   "id": "5ce927ba",
   "metadata": {},
   "outputs": [
    {
     "name": "stdout",
     "output_type": "stream",
     "text": [
      "{'Hitman', 'Avengers'}\n",
      "{'Ironman', 'Hitman', 'Avengers'}\n"
     ]
    }
   ],
   "source": [
    "print(set1)\n",
    "print(set2)"
   ]
  },
  {
   "cell_type": "code",
   "execution_count": 55,
   "id": "28aea413",
   "metadata": {},
   "outputs": [
    {
     "data": {
      "text/plain": [
       "False"
      ]
     },
     "execution_count": 55,
     "metadata": {},
     "output_type": "execute_result"
    }
   ],
   "source": [
    "set2.issubset(set1)"
   ]
  },
  {
   "cell_type": "code",
   "execution_count": 56,
   "id": "742e719a",
   "metadata": {},
   "outputs": [
    {
     "data": {
      "text/plain": [
       "True"
      ]
     },
     "execution_count": 56,
     "metadata": {},
     "output_type": "execute_result"
    }
   ],
   "source": [
    "set2.issuperset(set1)"
   ]
  },
  {
   "cell_type": "code",
   "execution_count": 62,
   "id": "3e271f2e",
   "metadata": {},
   "outputs": [
    {
     "name": "stdout",
     "output_type": "stream",
     "text": [
      "{'Blackpanther', 'Hitman', 'Avengers', 'Ironman'}\n",
      "{'Ironman', 'Hitman', 'Avengers'}\n"
     ]
    }
   ],
   "source": [
    "set1.add(\"Blackpanther\")\n",
    "print(set1)\n",
    "print(set2)"
   ]
  },
  {
   "cell_type": "markdown",
   "id": "50d4bb90",
   "metadata": {},
   "source": [
    "### Union Method"
   ]
  },
  {
   "cell_type": "code",
   "execution_count": 85,
   "id": "fb3d6ff9",
   "metadata": {},
   "outputs": [
    {
     "data": {
      "text/plain": [
       "{'Avengers', 'Blackpanther', 'Hitman', 'Ironman'}"
      ]
     },
     "execution_count": 85,
     "metadata": {},
     "output_type": "execute_result"
    }
   ],
   "source": [
    "# does union of itself and set given in parameter(string/set/list) but does not update set\n",
    "set2.union(set1)"
   ]
  },
  {
   "cell_type": "code",
   "execution_count": 86,
   "id": "5e74f322",
   "metadata": {},
   "outputs": [
    {
     "data": {
      "text/plain": [
       "{'Avengers', 'Hitman', 'Ironman'}"
      ]
     },
     "execution_count": 86,
     "metadata": {},
     "output_type": "execute_result"
    }
   ],
   "source": [
    "set2"
   ]
  },
  {
   "cell_type": "code",
   "execution_count": 87,
   "id": "7750bb61",
   "metadata": {},
   "outputs": [],
   "source": [
    "L=[1,2,3,4,5]"
   ]
  },
  {
   "cell_type": "code",
   "execution_count": 88,
   "id": "f4acd39f",
   "metadata": {},
   "outputs": [
    {
     "data": {
      "text/plain": [
       "{1, 2, 3, 4, 5, 'Avengers', 'Hitman', 'Ironman'}"
      ]
     },
     "execution_count": 88,
     "metadata": {},
     "output_type": "execute_result"
    }
   ],
   "source": [
    "set2.union(L)"
   ]
  },
  {
   "cell_type": "code",
   "execution_count": 89,
   "id": "1dd72bc5",
   "metadata": {},
   "outputs": [
    {
     "data": {
      "text/plain": [
       "{'Avengers', 'Hitman', 'Ironman'}"
      ]
     },
     "execution_count": 89,
     "metadata": {},
     "output_type": "execute_result"
    }
   ],
   "source": [
    "set2"
   ]
  },
  {
   "cell_type": "code",
   "execution_count": 95,
   "id": "bb32c51a",
   "metadata": {},
   "outputs": [],
   "source": [
    "# another way for union of only set with another set"
   ]
  },
  {
   "cell_type": "code",
   "execution_count": 96,
   "id": "d772fc16",
   "metadata": {},
   "outputs": [
    {
     "data": {
      "text/plain": [
       "{'Avengers', 'Blackpanther', 'Hitman', 'Ironman'}"
      ]
     },
     "execution_count": 96,
     "metadata": {},
     "output_type": "execute_result"
    }
   ],
   "source": [
    "set1|set2"
   ]
  },
  {
   "cell_type": "code",
   "execution_count": 97,
   "id": "5e1bbcd4",
   "metadata": {},
   "outputs": [
    {
     "data": {
      "text/plain": [
       "{'Avengers', 'Blackpanther', 'Hitman', 'Ironman'}"
      ]
     },
     "execution_count": 97,
     "metadata": {},
     "output_type": "execute_result"
    }
   ],
   "source": [
    "set2|set1"
   ]
  },
  {
   "cell_type": "code",
   "execution_count": 98,
   "id": "b2ad3dee",
   "metadata": {},
   "outputs": [
    {
     "name": "stdout",
     "output_type": "stream",
     "text": [
      "{'Blackpanther', 'Hitman', 'Avengers', 'Ironman'}\n",
      "{'Ironman', 'Hitman', 'Avengers'}\n"
     ]
    }
   ],
   "source": [
    "print(set1)\n",
    "print(set2)"
   ]
  },
  {
   "cell_type": "code",
   "execution_count": 99,
   "id": "269dbb54",
   "metadata": {},
   "outputs": [
    {
     "ename": "TypeError",
     "evalue": "unsupported operand type(s) for |: 'set' and 'list'",
     "output_type": "error",
     "traceback": [
      "\u001b[1;31m---------------------------------------------------------------------------\u001b[0m",
      "\u001b[1;31mTypeError\u001b[0m                                 Traceback (most recent call last)",
      "Input \u001b[1;32mIn [99]\u001b[0m, in \u001b[0;36m<cell line: 1>\u001b[1;34m()\u001b[0m\n\u001b[1;32m----> 1\u001b[0m \u001b[43mset1\u001b[49m\u001b[38;5;241;43m|\u001b[39;49m\u001b[43mL\u001b[49m\n",
      "\u001b[1;31mTypeError\u001b[0m: unsupported operand type(s) for |: 'set' and 'list'"
     ]
    }
   ],
   "source": [
    "set1|L"
   ]
  },
  {
   "cell_type": "markdown",
   "id": "6e58c371",
   "metadata": {},
   "source": [
    "### Update Method"
   ]
  },
  {
   "cell_type": "code",
   "execution_count": 101,
   "id": "8d4060b6",
   "metadata": {},
   "outputs": [],
   "source": [
    "# does union of itself and set given in parameter(string/set/list) but also update itself\n",
    "set2.update(set1)"
   ]
  },
  {
   "cell_type": "code",
   "execution_count": 102,
   "id": "7519b42a",
   "metadata": {},
   "outputs": [
    {
     "data": {
      "text/plain": [
       "{'Avengers', 'Blackpanther', 'Hitman', 'Ironman'}"
      ]
     },
     "execution_count": 102,
     "metadata": {},
     "output_type": "execute_result"
    }
   ],
   "source": [
    "set2"
   ]
  },
  {
   "cell_type": "code",
   "execution_count": 106,
   "id": "9c016cef",
   "metadata": {},
   "outputs": [],
   "source": [
    "# union of set with list \n",
    "set2.update(L)"
   ]
  },
  {
   "cell_type": "code",
   "execution_count": 107,
   "id": "da272aa1",
   "metadata": {},
   "outputs": [
    {
     "data": {
      "text/plain": [
       "{1, 2, 3, 4, 5, 'Avengers', 'Blackpanther', 'Hitman', 'Ironman'}"
      ]
     },
     "execution_count": 107,
     "metadata": {},
     "output_type": "execute_result"
    }
   ],
   "source": [
    "set2"
   ]
  },
  {
   "cell_type": "code",
   "execution_count": 108,
   "id": "9dd67e41",
   "metadata": {},
   "outputs": [
    {
     "name": "stdout",
     "output_type": "stream",
     "text": [
      "{'Blackpanther', 'Hitman', 'Avengers', 'Ironman'}\n",
      "{1, 2, 3, 4, 'Avengers', 5, 'Blackpanther', 'Hitman', 'Ironman'}\n"
     ]
    }
   ],
   "source": [
    "print(set1)\n",
    "print(set2)"
   ]
  },
  {
   "cell_type": "code",
   "execution_count": 112,
   "id": "671db087",
   "metadata": {},
   "outputs": [
    {
     "name": "stdout",
     "output_type": "stream",
     "text": [
      "{'Blackpanther', 'Hitman', 'Avengers', 'Ironman'}\n",
      "{'Ironman', 'Hitman', 'Avengers'}\n"
     ]
    }
   ],
   "source": [
    "# Another method of update using |= opreator\n",
    "set2={'Ironman', 'Hitman', 'Avengers'}\n",
    "print(set1)\n",
    "print(set2)"
   ]
  },
  {
   "cell_type": "code",
   "execution_count": 115,
   "id": "dfaefe39",
   "metadata": {},
   "outputs": [],
   "source": [
    "set1|=set2"
   ]
  },
  {
   "cell_type": "code",
   "execution_count": 118,
   "id": "bcf15140",
   "metadata": {},
   "outputs": [
    {
     "name": "stdout",
     "output_type": "stream",
     "text": [
      "{'Blackpanther', 'Hitman', 'Avengers', 'Ironman'}\n",
      "{'Blackpanther', 'Hitman', 'Avengers', 'Ironman'}\n"
     ]
    }
   ],
   "source": [
    "print(set2)\n",
    "print(set1)"
   ]
  },
  {
   "cell_type": "markdown",
   "id": "820c7a11",
   "metadata": {},
   "source": [
    "## Dictionaries\n",
    "A dictionary is a collection which is unordered, changeable and indexed. In Python dictionaries are written with curly brackets, and they have keys and values"
   ]
  },
  {
   "cell_type": "code",
   "execution_count": 140,
   "id": "61b73572",
   "metadata": {},
   "outputs": [
    {
     "name": "stdout",
     "output_type": "stream",
     "text": [
      "<class 'dict'>\n",
      "{}\n"
     ]
    }
   ],
   "source": [
    "# Empty Dictionary\n",
    "dic={}\n",
    "print(type(dic))\n",
    "print(dic)"
   ]
  },
  {
   "cell_type": "code",
   "execution_count": 145,
   "id": "d1548daf",
   "metadata": {},
   "outputs": [
    {
     "data": {
      "text/plain": [
       "set"
      ]
     },
     "execution_count": 145,
     "metadata": {},
     "output_type": "execute_result"
    }
   ],
   "source": [
    "set_ex={1,2,3,4}\n",
    "type(set_ex)"
   ]
  },
  {
   "cell_type": "code",
   "execution_count": 146,
   "id": "7c2c2e7d",
   "metadata": {},
   "outputs": [
    {
     "data": {
      "text/plain": [
       "dict"
      ]
     },
     "execution_count": 146,
     "metadata": {},
     "output_type": "execute_result"
    }
   ],
   "source": [
    "# Creating a Empty Dictonary using dict()\n",
    "dic2=dict()\n",
    "type(dic2)"
   ]
  },
  {
   "cell_type": "code",
   "execution_count": 147,
   "id": "882fdbb3",
   "metadata": {},
   "outputs": [
    {
     "data": {
      "text/plain": [
       "dict"
      ]
     },
     "execution_count": 147,
     "metadata": {},
     "output_type": "execute_result"
    }
   ],
   "source": [
    "# Creating a Dictonary using dict()\n",
    "dic2=dict(name=\"yash\", age=20,University=\"Graphic Era\")\n",
    "type(dic2)"
   ]
  },
  {
   "cell_type": "code",
   "execution_count": 148,
   "id": "2449ff18",
   "metadata": {},
   "outputs": [
    {
     "data": {
      "text/plain": [
       "set"
      ]
     },
     "execution_count": 148,
     "metadata": {},
     "output_type": "execute_result"
    }
   ],
   "source": [
    "type(dic)"
   ]
  },
  {
   "cell_type": "code",
   "execution_count": 149,
   "id": "b6d47db3",
   "metadata": {},
   "outputs": [
    {
     "name": "stdout",
     "output_type": "stream",
     "text": [
      "{'name': 'yash', 'age': 20, 'University': 'Graphic Era'}\n"
     ]
    }
   ],
   "source": [
    "print(dic2)"
   ]
  },
  {
   "cell_type": "code",
   "execution_count": 150,
   "id": "7414587a",
   "metadata": {},
   "outputs": [],
   "source": [
    "# Creating a Dictonary\n",
    "my_dict={\"car1\":\"Audi\",\"car2\":\"BMW\",\"Car3\":\"Mercidies Benz\"}"
   ]
  },
  {
   "cell_type": "code",
   "execution_count": 151,
   "id": "d27dc1c5",
   "metadata": {},
   "outputs": [
    {
     "data": {
      "text/plain": [
       "dict"
      ]
     },
     "execution_count": 151,
     "metadata": {},
     "output_type": "execute_result"
    }
   ],
   "source": [
    "type(my_dict)"
   ]
  },
  {
   "cell_type": "markdown",
   "id": "18c10f6e",
   "metadata": {},
   "source": [
    "## Accessing Keys and Values"
   ]
  },
  {
   "cell_type": "code",
   "execution_count": 153,
   "id": "44754b90",
   "metadata": {},
   "outputs": [
    {
     "data": {
      "text/plain": [
       "'Audi'"
      ]
     },
     "execution_count": 153,
     "metadata": {},
     "output_type": "execute_result"
    }
   ],
   "source": [
    "## Accessing Values Based On Keys\n",
    "my_dict[\"car1\"]"
   ]
  },
  {
   "cell_type": "code",
   "execution_count": 167,
   "id": "fab7fded",
   "metadata": {},
   "outputs": [
    {
     "data": {
      "text/plain": [
       "dict_keys(['car1', 'car2', 'Car3', 'car4'])"
      ]
     },
     "execution_count": 167,
     "metadata": {},
     "output_type": "execute_result"
    }
   ],
   "source": [
    "# print all keys\n",
    "my_dict.keys()"
   ]
  },
  {
   "cell_type": "code",
   "execution_count": 168,
   "id": "899e0963",
   "metadata": {},
   "outputs": [
    {
     "data": {
      "text/plain": [
       "dict_values(['Maruti', 'BMW', 'Mercidies Benz', 'Ferrari'])"
      ]
     },
     "execution_count": 168,
     "metadata": {},
     "output_type": "execute_result"
    }
   ],
   "source": [
    "# print all values\n",
    "my_dict.values()"
   ]
  },
  {
   "cell_type": "code",
   "execution_count": 169,
   "id": "322b2e20",
   "metadata": {},
   "outputs": [
    {
     "data": {
      "text/plain": [
       "dict_items([('car1', 'Maruti'), ('car2', 'BMW'), ('Car3', 'Mercidies Benz'), ('car4', 'Ferrari')])"
      ]
     },
     "execution_count": 169,
     "metadata": {},
     "output_type": "execute_result"
    }
   ],
   "source": [
    "# print all items\n",
    "my_dict.items()"
   ]
  },
  {
   "cell_type": "code",
   "execution_count": 156,
   "id": "f7bb024b",
   "metadata": {},
   "outputs": [
    {
     "name": "stdout",
     "output_type": "stream",
     "text": [
      "car1\n",
      "car2\n",
      "Car3\n"
     ]
    }
   ],
   "source": [
    "# printing Keys using For Loops\n",
    "for x in my_dict:\n",
    "    print(x)"
   ]
  },
  {
   "cell_type": "code",
   "execution_count": 157,
   "id": "ba434f08",
   "metadata": {},
   "outputs": [
    {
     "name": "stdout",
     "output_type": "stream",
     "text": [
      "Audi\n",
      "BMW\n",
      "Mercidies Benz\n"
     ]
    }
   ],
   "source": [
    "# printing Values using For Loops\n",
    "for x in my_dict.values():\n",
    "    print(x)"
   ]
  },
  {
   "cell_type": "code",
   "execution_count": 158,
   "id": "ef6ef7a7",
   "metadata": {},
   "outputs": [
    {
     "name": "stdout",
     "output_type": "stream",
     "text": [
      "('car1', 'Audi')\n",
      "('car2', 'BMW')\n",
      "('Car3', 'Mercidies Benz')\n"
     ]
    }
   ],
   "source": [
    "# printing Both keys and values\n",
    "for x in my_dict.items():\n",
    "    print(x)"
   ]
  },
  {
   "cell_type": "markdown",
   "id": "3bb56826",
   "metadata": {},
   "source": [
    "## Adding items in Dictionaries"
   ]
  },
  {
   "cell_type": "code",
   "execution_count": 159,
   "id": "d439e586",
   "metadata": {},
   "outputs": [],
   "source": [
    "my_dict[\"car4\"]=\"Ferrari\""
   ]
  },
  {
   "cell_type": "code",
   "execution_count": 160,
   "id": "82fc2604",
   "metadata": {},
   "outputs": [
    {
     "data": {
      "text/plain": [
       "{'car1': 'Audi', 'car2': 'BMW', 'Car3': 'Mercidies Benz', 'car4': 'Ferrari'}"
      ]
     },
     "execution_count": 160,
     "metadata": {},
     "output_type": "execute_result"
    }
   ],
   "source": [
    "my_dict"
   ]
  },
  {
   "cell_type": "code",
   "execution_count": 161,
   "id": "ccf284be",
   "metadata": {},
   "outputs": [],
   "source": [
    "# If we add new value to already existing Key its value gets overwritten\n",
    "my_dict[\"car1\"]=\"Maruti\""
   ]
  },
  {
   "cell_type": "code",
   "execution_count": 162,
   "id": "c3f56ead",
   "metadata": {},
   "outputs": [
    {
     "data": {
      "text/plain": [
       "{'car1': 'Maruti', 'car2': 'BMW', 'Car3': 'Mercidies Benz', 'car4': 'Ferrari'}"
      ]
     },
     "execution_count": 162,
     "metadata": {},
     "output_type": "execute_result"
    }
   ],
   "source": [
    "my_dict"
   ]
  },
  {
   "cell_type": "markdown",
   "id": "a84fca5d",
   "metadata": {},
   "source": [
    "## Nested Dictionary"
   ]
  },
  {
   "cell_type": "code",
   "execution_count": 163,
   "id": "e5e204f2",
   "metadata": {},
   "outputs": [],
   "source": [
    "car1_model={'Mercedes':1960}\n",
    "car2_model={'Audi':1970}\n",
    "car3_model={'Ambassador':1980}\n",
    "car_type={'car1':car1_model,'car2':car2_model,'car3':car3_model}"
   ]
  },
  {
   "cell_type": "code",
   "execution_count": 165,
   "id": "a5c9d94e",
   "metadata": {},
   "outputs": [
    {
     "name": "stdout",
     "output_type": "stream",
     "text": [
      "{'car1': {'Mercedes': 1960}, 'car2': {'Audi': 1970}, 'car3': {'Ambassador': 1980}}\n"
     ]
    }
   ],
   "source": [
    "print(car_type)"
   ]
  },
  {
   "cell_type": "code",
   "execution_count": 170,
   "id": "c04275ad",
   "metadata": {},
   "outputs": [
    {
     "name": "stdout",
     "output_type": "stream",
     "text": [
      "{'Mercedes': 1960}\n"
     ]
    }
   ],
   "source": [
    "# Accessing item in nested Dictionary\n",
    "print(car_type['car1'])"
   ]
  },
  {
   "cell_type": "code",
   "execution_count": 171,
   "id": "fadd7851",
   "metadata": {},
   "outputs": [
    {
     "name": "stdout",
     "output_type": "stream",
     "text": [
      "1960\n"
     ]
    }
   ],
   "source": [
    "print(car_type['car1']['Mercedes'])"
   ]
  },
  {
   "cell_type": "code",
   "execution_count": 172,
   "id": "05a5fb44",
   "metadata": {},
   "outputs": [
    {
     "ename": "KeyError",
     "evalue": "1",
     "output_type": "error",
     "traceback": [
      "\u001b[1;31m---------------------------------------------------------------------------\u001b[0m",
      "\u001b[1;31mKeyError\u001b[0m                                  Traceback (most recent call last)",
      "Input \u001b[1;32mIn [172]\u001b[0m, in \u001b[0;36m<cell line: 1>\u001b[1;34m()\u001b[0m\n\u001b[1;32m----> 1\u001b[0m \u001b[38;5;28mprint\u001b[39m(\u001b[43mcar_type\u001b[49m\u001b[43m[\u001b[49m\u001b[38;5;241;43m1\u001b[39;49m\u001b[43m]\u001b[49m[\u001b[38;5;241m2\u001b[39m])\n",
      "\u001b[1;31mKeyError\u001b[0m: 1"
     ]
    }
   ],
   "source": [
    "print(car_type[1][2])"
   ]
  },
  {
   "cell_type": "markdown",
   "id": "c9e7127e",
   "metadata": {},
   "source": [
    "# Tuples\n",
    "Tuple is a collection of objects separated by commas. In some ways, a tuple is similar to a list in terms of indexing, nested objects, and repetition but a tuple is immutable, unlike lists which are mutable"
   ]
  },
  {
   "cell_type": "code",
   "execution_count": 177,
   "id": "6e614297",
   "metadata": {},
   "outputs": [
    {
     "name": "stdout",
     "output_type": "stream",
     "text": [
      "<class 'type'>\n",
      "()\n"
     ]
    }
   ],
   "source": [
    "# Creating a Empty Tuples using tuple()\n",
    "my_tuple=tuple()\n",
    "print(type(tuple))\n",
    "print(my_tuple)"
   ]
  },
  {
   "cell_type": "code",
   "execution_count": 184,
   "id": "ae704310",
   "metadata": {},
   "outputs": [
    {
     "name": "stdout",
     "output_type": "stream",
     "text": [
      "(1, 2, 3)\n"
     ]
    }
   ],
   "source": [
    "# only one argument in tuple function\n",
    "my_tuple=tuple([1,2,3])\n",
    "print(my_tuple)"
   ]
  },
  {
   "cell_type": "code",
   "execution_count": 186,
   "id": "49be79cb",
   "metadata": {},
   "outputs": [
    {
     "name": "stdout",
     "output_type": "stream",
     "text": [
      "(1, 2, 3)\n"
     ]
    }
   ],
   "source": [
    "my_tuple=tuple((1,2,3))\n",
    "print(my_tuple)"
   ]
  },
  {
   "cell_type": "code",
   "execution_count": 187,
   "id": "b238f7fd",
   "metadata": {},
   "outputs": [],
   "source": [
    "# Creating a Empty Tuples\n",
    "my_tuple=()"
   ]
  },
  {
   "cell_type": "code",
   "execution_count": 188,
   "id": "cd6220b7",
   "metadata": {},
   "outputs": [
    {
     "name": "stdout",
     "output_type": "stream",
     "text": [
      "<class 'tuple'>\n",
      "()\n"
     ]
    }
   ],
   "source": [
    "print(type(my_tuple))\n",
    "print(my_tuple)"
   ]
  },
  {
   "cell_type": "code",
   "execution_count": 197,
   "id": "645a89df",
   "metadata": {},
   "outputs": [
    {
     "name": "stdout",
     "output_type": "stream",
     "text": [
      "('yash', 'Nitin', 'Nishant', 'yash')\n"
     ]
    }
   ],
   "source": [
    "my_tuple=(\"yash\",\"Nitin\",\"Nishant\",\"yash\")\n",
    "print(my_tuple)"
   ]
  },
  {
   "cell_type": "code",
   "execution_count": 198,
   "id": "27dbd4be",
   "metadata": {},
   "outputs": [
    {
     "name": "stdout",
     "output_type": "stream",
     "text": [
      "yash\n"
     ]
    }
   ],
   "source": [
    "# Elements of tuple are immutable\n",
    "print(my_tuple[0])"
   ]
  },
  {
   "cell_type": "code",
   "execution_count": 199,
   "id": "931a7b21",
   "metadata": {},
   "outputs": [
    {
     "ename": "TypeError",
     "evalue": "'tuple' object does not support item assignment",
     "output_type": "error",
     "traceback": [
      "\u001b[1;31m---------------------------------------------------------------------------\u001b[0m",
      "\u001b[1;31mTypeError\u001b[0m                                 Traceback (most recent call last)",
      "Input \u001b[1;32mIn [199]\u001b[0m, in \u001b[0;36m<cell line: 1>\u001b[1;34m()\u001b[0m\n\u001b[1;32m----> 1\u001b[0m my_tuple[\u001b[38;5;241m0\u001b[39m]\u001b[38;5;241m=\u001b[39m\u001b[38;5;124m\"\u001b[39m\u001b[38;5;124mKhati\u001b[39m\u001b[38;5;124m\"\u001b[39m\n",
      "\u001b[1;31mTypeError\u001b[0m: 'tuple' object does not support item assignment"
     ]
    }
   ],
   "source": [
    "my_tuple[0]=\"Khati\""
   ]
  },
  {
   "cell_type": "code",
   "execution_count": 200,
   "id": "55a1c69b",
   "metadata": {},
   "outputs": [
    {
     "data": {
      "text/plain": [
       "2"
      ]
     },
     "execution_count": 200,
     "metadata": {},
     "output_type": "execute_result"
    }
   ],
   "source": [
    "# count the frequencu of element in tuple \n",
    "my_tuple.count(\"yash\",)"
   ]
  },
  {
   "cell_type": "code",
   "execution_count": 205,
   "id": "20c1d20e",
   "metadata": {},
   "outputs": [
    {
     "data": {
      "text/plain": [
       "0"
      ]
     },
     "execution_count": 205,
     "metadata": {},
     "output_type": "execute_result"
    }
   ],
   "source": [
    "# Find First Occurrence of element in tuple\n",
    "my_tuple.index(\"yash\")"
   ]
  },
  {
   "cell_type": "code",
   "execution_count": 207,
   "id": "98e88e9f",
   "metadata": {},
   "outputs": [
    {
     "data": {
      "text/plain": [
       "3"
      ]
     },
     "execution_count": 207,
     "metadata": {},
     "output_type": "execute_result"
    }
   ],
   "source": [
    "# Find First Occurrence of element in tuple \n",
    "# (element,start_index,End_index) search for element from start index to end_index-1\n",
    "my_tuple.index(\"yash\",1,4)"
   ]
  },
  {
   "cell_type": "code",
   "execution_count": 208,
   "id": "265ecdaf",
   "metadata": {},
   "outputs": [
    {
     "data": {
      "text/plain": [
       "4"
      ]
     },
     "execution_count": 208,
     "metadata": {},
     "output_type": "execute_result"
    }
   ],
   "source": [
    "# Finding length of tuple\n",
    "len(my_tuple)"
   ]
  }
 ],
 "metadata": {
  "kernelspec": {
   "display_name": "Python 3 (ipykernel)",
   "language": "python",
   "name": "python3"
  },
  "language_info": {
   "codemirror_mode": {
    "name": "ipython",
    "version": 3
   },
   "file_extension": ".py",
   "mimetype": "text/x-python",
   "name": "python",
   "nbconvert_exporter": "python",
   "pygments_lexer": "ipython3",
   "version": "3.9.12"
  }
 },
 "nbformat": 4,
 "nbformat_minor": 5
}
