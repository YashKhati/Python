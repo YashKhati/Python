{
 "cells": [
  {
   "cell_type": "markdown",
   "id": "3a9e7b2b",
   "metadata": {},
   "source": [
    "## Datatypes in Python \n",
    "- Datatypes"
   ]
  },
  {
   "cell_type": "code",
   "execution_count": 1,
   "id": "a74bef42",
   "metadata": {},
   "outputs": [
    {
     "data": {
      "text/plain": [
       "13"
      ]
     },
     "execution_count": 1,
     "metadata": {},
     "output_type": "execute_result"
    }
   ],
   "source": [
    "6+7"
   ]
  },
  {
   "cell_type": "code",
   "execution_count": 3,
   "id": "378a1d7d",
   "metadata": {},
   "outputs": [
    {
     "data": {
      "text/plain": [
       "float"
      ]
     },
     "execution_count": 3,
     "metadata": {},
     "output_type": "execute_result"
    }
   ],
   "source": [
    "a=8.9\n",
    "type(a)"
   ]
  },
  {
   "cell_type": "code",
   "execution_count": 4,
   "id": "f957b2c0",
   "metadata": {},
   "outputs": [
    {
     "data": {
      "text/plain": [
       "str"
      ]
     },
     "execution_count": 4,
     "metadata": {},
     "output_type": "execute_result"
    }
   ],
   "source": [
    "a=\"yash\"\n",
    "type(a)"
   ]
  },
  {
   "cell_type": "code",
   "execution_count": 5,
   "id": "75099fcf",
   "metadata": {},
   "outputs": [
    {
     "data": {
      "text/plain": [
       "int"
      ]
     },
     "execution_count": 5,
     "metadata": {},
     "output_type": "execute_result"
    }
   ],
   "source": [
    "a=3\n",
    "type(a)"
   ]
  },
  {
   "cell_type": "code",
   "execution_count": 6,
   "id": "3d627b60",
   "metadata": {},
   "outputs": [
    {
     "data": {
      "text/plain": [
       "<function print>"
      ]
     },
     "execution_count": 6,
     "metadata": {},
     "output_type": "execute_result"
    }
   ],
   "source": [
    "print"
   ]
  },
  {
   "cell_type": "code",
   "execution_count": 7,
   "id": "b9bab7f5",
   "metadata": {},
   "outputs": [
    {
     "name": "stdout",
     "output_type": "stream",
     "text": [
      "Hello world\n"
     ]
    }
   ],
   "source": [
    "print(\"Hello world\")"
   ]
  },
  {
   "cell_type": "code",
   "execution_count": 9,
   "id": "5a848f23",
   "metadata": {},
   "outputs": [
    {
     "name": "stdout",
     "output_type": "stream",
     "text": [
      "hello world\n",
      "\n"
     ]
    }
   ],
   "source": [
    "print(\"hello world\\n\")"
   ]
  },
  {
   "cell_type": "code",
   "execution_count": 10,
   "id": "b3fdfe30",
   "metadata": {},
   "outputs": [
    {
     "data": {
      "text/plain": [
       "'hello this is comment section'"
      ]
     },
     "execution_count": 10,
     "metadata": {},
     "output_type": "execute_result"
    }
   ],
   "source": [
    "'''hello this is comment section'''"
   ]
  },
  {
   "cell_type": "code",
   "execution_count": 11,
   "id": "a38ec205",
   "metadata": {},
   "outputs": [
    {
     "data": {
      "text/plain": [
       "'yashyashyash'"
      ]
     },
     "execution_count": 11,
     "metadata": {},
     "output_type": "execute_result"
    }
   ],
   "source": [
    "3*\"yash\""
   ]
  },
  {
   "cell_type": "code",
   "execution_count": 13,
   "id": "94d36ed6",
   "metadata": {},
   "outputs": [
    {
     "data": {
      "text/plain": [
       "'yashkhati'"
      ]
     },
     "execution_count": 13,
     "metadata": {},
     "output_type": "execute_result"
    }
   ],
   "source": [
    "\"yash\"+\"khati\""
   ]
  },
  {
   "cell_type": "code",
   "execution_count": 14,
   "id": "089c671b",
   "metadata": {},
   "outputs": [
    {
     "data": {
      "text/plain": [
       "str"
      ]
     },
     "execution_count": 14,
     "metadata": {},
     "output_type": "execute_result"
    }
   ],
   "source": [
    "type('yash')"
   ]
  },
  {
   "cell_type": "code",
   "execution_count": 15,
   "id": "e70a188b",
   "metadata": {},
   "outputs": [
    {
     "data": {
      "text/plain": [
       "str"
      ]
     },
     "execution_count": 15,
     "metadata": {},
     "output_type": "execute_result"
    }
   ],
   "source": [
    "type(\"yash\")"
   ]
  },
  {
   "cell_type": "markdown",
   "id": "5a5acef3",
   "metadata": {},
   "source": [
    "## Variable Assignment and Opreations"
   ]
  },
  {
   "cell_type": "code",
   "execution_count": 16,
   "id": "3e17d164",
   "metadata": {},
   "outputs": [],
   "source": [
    "a=20"
   ]
  },
  {
   "cell_type": "code",
   "execution_count": 17,
   "id": "f99ca511",
   "metadata": {},
   "outputs": [
    {
     "data": {
      "text/plain": [
       "int"
      ]
     },
     "execution_count": 17,
     "metadata": {},
     "output_type": "execute_result"
    }
   ],
   "source": [
    "type(a)"
   ]
  },
  {
   "cell_type": "code",
   "execution_count": 18,
   "id": "c1890aa8",
   "metadata": {},
   "outputs": [],
   "source": [
    "a=\"Yash Khati\""
   ]
  },
  {
   "cell_type": "code",
   "execution_count": 19,
   "id": "6a8b71ef",
   "metadata": {},
   "outputs": [
    {
     "data": {
      "text/plain": [
       "str"
      ]
     },
     "execution_count": 19,
     "metadata": {},
     "output_type": "execute_result"
    }
   ],
   "source": [
    "type(a)"
   ]
  },
  {
   "cell_type": "markdown",
   "id": "46942b79",
   "metadata": {},
   "source": [
    "## Ways of Printing"
   ]
  },
  {
   "cell_type": "code",
   "execution_count": 20,
   "id": "42b727bd",
   "metadata": {},
   "outputs": [],
   "source": [
    "first_name=\"Yash\"\n",
    "last_name=\"Khati\""
   ]
  },
  {
   "cell_type": "code",
   "execution_count": 21,
   "id": "a53eb7fc",
   "metadata": {},
   "outputs": [
    {
     "name": "stdout",
     "output_type": "stream",
     "text": [
      "My first name is Yash and last name is Khati \n"
     ]
    }
   ],
   "source": [
    "print(\"My first name is {} and last name is {} \".format(first_name ,last_name))"
   ]
  },
  {
   "cell_type": "code",
   "execution_count": 22,
   "id": "36bb15b3",
   "metadata": {},
   "outputs": [
    {
     "name": "stdout",
     "output_type": "stream",
     "text": [
      "My first name is Yash and last name is Khati \n"
     ]
    }
   ],
   "source": [
    "print(\"My first name is {first} and last name is {last} \".format(first=first_name ,last=last_name))"
   ]
  },
  {
   "cell_type": "code",
   "execution_count": 24,
   "id": "7ca3d8ce",
   "metadata": {},
   "outputs": [
    {
     "name": "stdout",
     "output_type": "stream",
     "text": [
      "My first name is Yash and last name is Khati \n"
     ]
    }
   ],
   "source": [
    "print(\"My first name is {first} and last name is {last} \".format(last=last_name ,first=first_name))"
   ]
  },
  {
   "cell_type": "code",
   "execution_count": 25,
   "id": "4c78f9fa",
   "metadata": {},
   "outputs": [
    {
     "data": {
      "text/plain": [
       "4"
      ]
     },
     "execution_count": 25,
     "metadata": {},
     "output_type": "execute_result"
    }
   ],
   "source": [
    "len('yash')"
   ]
  },
  {
   "cell_type": "code",
   "execution_count": 27,
   "id": "085ef2f5",
   "metadata": {},
   "outputs": [
    {
     "data": {
      "text/plain": [
       "5"
      ]
     },
     "execution_count": 27,
     "metadata": {},
     "output_type": "execute_result"
    }
   ],
   "source": [
    "len(\"khati\")"
   ]
  },
  {
   "cell_type": "code",
   "execution_count": 28,
   "id": "217a76f2",
   "metadata": {},
   "outputs": [
    {
     "data": {
      "text/plain": [
       "float"
      ]
     },
     "execution_count": 28,
     "metadata": {},
     "output_type": "execute_result"
    }
   ],
   "source": [
    "type(1.0)"
   ]
  },
  {
   "cell_type": "code",
   "execution_count": 29,
   "id": "6a550f39",
   "metadata": {},
   "outputs": [
    {
     "data": {
      "text/plain": [
       "list"
      ]
     },
     "execution_count": 29,
     "metadata": {},
     "output_type": "execute_result"
    }
   ],
   "source": [
    "type(['no',2,3,'yes'])"
   ]
  },
  {
   "cell_type": "code",
   "execution_count": null,
   "id": "e5ea3238",
   "metadata": {},
   "outputs": [],
   "source": []
  }
 ],
 "metadata": {
  "kernelspec": {
   "display_name": "Python 3 (ipykernel)",
   "language": "python",
   "name": "python3"
  },
  "language_info": {
   "codemirror_mode": {
    "name": "ipython",
    "version": 3
   },
   "file_extension": ".py",
   "mimetype": "text/x-python",
   "name": "python",
   "nbconvert_exporter": "python",
   "pygments_lexer": "ipython3",
   "version": "3.9.12"
  }
 },
 "nbformat": 4,
 "nbformat_minor": 5
}
