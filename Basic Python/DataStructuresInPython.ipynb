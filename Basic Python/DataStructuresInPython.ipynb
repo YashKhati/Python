{
 "cells": [
  {
   "cell_type": "markdown",
   "id": "f11a6604",
   "metadata": {},
   "source": [
    "# Python Data Structures"
   ]
  },
  {
   "cell_type": "code",
   "execution_count": 1,
   "id": "d1d90b52",
   "metadata": {},
   "outputs": [
    {
     "data": {
      "text/plain": [
       "False"
      ]
     },
     "execution_count": 1,
     "metadata": {},
     "output_type": "execute_result"
    }
   ],
   "source": [
    "bool()"
   ]
  },
  {
   "cell_type": "code",
   "execution_count": 2,
   "id": "67b829d5",
   "metadata": {},
   "outputs": [],
   "source": [
    "temp=bool(True)"
   ]
  },
  {
   "cell_type": "code",
   "execution_count": 3,
   "id": "ace58799",
   "metadata": {},
   "outputs": [
    {
     "name": "stdout",
     "output_type": "stream",
     "text": [
      "True\n"
     ]
    }
   ],
   "source": [
    "print(temp)"
   ]
  },
  {
   "cell_type": "code",
   "execution_count": 4,
   "id": "f26986c3",
   "metadata": {},
   "outputs": [
    {
     "data": {
      "text/plain": [
       "bool"
      ]
     },
     "execution_count": 4,
     "metadata": {},
     "output_type": "execute_result"
    }
   ],
   "source": [
    "type(temp)"
   ]
  },
  {
   "cell_type": "code",
   "execution_count": 5,
   "id": "6f0d92e5",
   "metadata": {},
   "outputs": [],
   "source": [
    "temp=False"
   ]
  },
  {
   "cell_type": "code",
   "execution_count": 6,
   "id": "27f18007",
   "metadata": {},
   "outputs": [
    {
     "name": "stdout",
     "output_type": "stream",
     "text": [
      "False\n"
     ]
    }
   ],
   "source": [
    "print(temp)"
   ]
  },
  {
   "cell_type": "code",
   "execution_count": 7,
   "id": "62506846",
   "metadata": {},
   "outputs": [
    {
     "name": "stdout",
     "output_type": "stream",
     "text": [
      "False\n",
      "False\n",
      "True\n",
      "False\n",
      "True\n",
      "False\n",
      "True\n"
     ]
    }
   ],
   "source": [
    "temp = \"Yash Khati\"\n",
    "\n",
    "print(temp.isalnum())\n",
    "print(temp.islower())\n",
    "print(temp.istitle())\n",
    "print(temp.endswith('I'))\n",
    "print(temp.endswith('i'))\n",
    "print(temp.startswith('y'))\n",
    "print(temp.startswith('Y'))"
   ]
  },
  {
   "cell_type": "markdown",
   "id": "210bcf61",
   "metadata": {},
   "source": [
    "# Lists\n",
    "A list is a data structure in Python that is a mutable, or changeable, ordered sequence of elements. Each element or value that is inside of a list is called an item. Just as strings are defined as characters between quotes, lists are defined by having values between square brackets [ ]\n",
    "\n",
    "\n"
   ]
  },
  {
   "cell_type": "code",
   "execution_count": 8,
   "id": "74078da0",
   "metadata": {},
   "outputs": [
    {
     "data": {
      "text/plain": [
       "list"
      ]
     },
     "execution_count": 8,
     "metadata": {},
     "output_type": "execute_result"
    }
   ],
   "source": [
    "type([])"
   ]
  },
  {
   "cell_type": "code",
   "execution_count": 12,
   "id": "62af9f7d",
   "metadata": {},
   "outputs": [
    {
     "data": {
      "text/plain": [
       "list"
      ]
     },
     "execution_count": 12,
     "metadata": {},
     "output_type": "execute_result"
    }
   ],
   "source": [
    "list_ex1=[]\n",
    "type(list_ex1)"
   ]
  },
  {
   "cell_type": "code",
   "execution_count": 13,
   "id": "52c379a4",
   "metadata": {},
   "outputs": [
    {
     "data": {
      "text/plain": [
       "list"
      ]
     },
     "execution_count": 13,
     "metadata": {},
     "output_type": "execute_result"
    }
   ],
   "source": [
    "list_ex2=list()\n",
    "type(list_ex2)"
   ]
  },
  {
   "cell_type": "code",
   "execution_count": 14,
   "id": "1ef6eb7b",
   "metadata": {},
   "outputs": [],
   "source": [
    "list_ex1 = ['Maths','Chemistry',20,30,10]"
   ]
  },
  {
   "cell_type": "code",
   "execution_count": 15,
   "id": "09cb5a1a",
   "metadata": {},
   "outputs": [
    {
     "name": "stdout",
     "output_type": "stream",
     "text": [
      "['Maths', 'Chemistry', 20, 30, 10]\n"
     ]
    }
   ],
   "source": [
    "print(list_ex1)"
   ]
  },
  {
   "cell_type": "code",
   "execution_count": 16,
   "id": "5cfadabb",
   "metadata": {},
   "outputs": [
    {
     "data": {
      "text/plain": [
       "5"
      ]
     },
     "execution_count": 16,
     "metadata": {},
     "output_type": "execute_result"
    }
   ],
   "source": [
    "len(list_ex1)"
   ]
  },
  {
   "cell_type": "markdown",
   "id": "84891d7d",
   "metadata": {},
   "source": [
    "# List Inbuilt Functions"
   ]
  },
  {
   "cell_type": "markdown",
   "id": "7cb8cb5d",
   "metadata": {},
   "source": [
    "### Append Method"
   ]
  },
  {
   "cell_type": "code",
   "execution_count": 17,
   "id": "8c965bdc",
   "metadata": {},
   "outputs": [],
   "source": [
    "list_ex1.append(\"Physics\")"
   ]
  },
  {
   "cell_type": "code",
   "execution_count": 18,
   "id": "45091881",
   "metadata": {},
   "outputs": [
    {
     "name": "stdout",
     "output_type": "stream",
     "text": [
      "['Maths', 'Chemistry', 20, 30, 10, 'Physics']\n"
     ]
    }
   ],
   "source": [
    "print(list_ex1)"
   ]
  },
  {
   "cell_type": "code",
   "execution_count": 19,
   "id": "b4c9124f",
   "metadata": {},
   "outputs": [
    {
     "data": {
      "text/plain": [
       "'Physics'"
      ]
     },
     "execution_count": 19,
     "metadata": {},
     "output_type": "execute_result"
    }
   ],
   "source": [
    "list_ex1[5]"
   ]
  },
  {
   "cell_type": "code",
   "execution_count": 20,
   "id": "91fa9a31",
   "metadata": {},
   "outputs": [
    {
     "data": {
      "text/plain": [
       "['Maths', 'Chemistry', 20, 30, 10, 'Physics']"
      ]
     },
     "execution_count": 20,
     "metadata": {},
     "output_type": "execute_result"
    }
   ],
   "source": [
    "list_ex1[:]"
   ]
  },
  {
   "cell_type": "code",
   "execution_count": 21,
   "id": "78f1cd83",
   "metadata": {},
   "outputs": [
    {
     "data": {
      "text/plain": [
       "['Chemistry', 20, 30, 10, 'Physics']"
      ]
     },
     "execution_count": 21,
     "metadata": {},
     "output_type": "execute_result"
    }
   ],
   "source": [
    "list_ex1[1:]"
   ]
  },
  {
   "cell_type": "code",
   "execution_count": 22,
   "id": "c00b16ef",
   "metadata": {},
   "outputs": [
    {
     "data": {
      "text/plain": [
       "['Chemistry', 20, 30]"
      ]
     },
     "execution_count": 22,
     "metadata": {},
     "output_type": "execute_result"
    }
   ],
   "source": [
    "list_ex1[1 : 4]"
   ]
  },
  {
   "cell_type": "code",
   "execution_count": 23,
   "id": "ef2e65bf",
   "metadata": {},
   "outputs": [
    {
     "data": {
      "text/plain": [
       "['Chemistry', 20, 30, 10, 'Physics']"
      ]
     },
     "execution_count": 23,
     "metadata": {},
     "output_type": "execute_result"
    }
   ],
   "source": [
    "list_ex1[1 : 6]"
   ]
  },
  {
   "cell_type": "code",
   "execution_count": 24,
   "id": "feb5a97c",
   "metadata": {},
   "outputs": [
    {
     "data": {
      "text/plain": [
       "['Chemistry', 20, 30, 10, 'Physics']"
      ]
     },
     "execution_count": 24,
     "metadata": {},
     "output_type": "execute_result"
    }
   ],
   "source": [
    "list_ex1[1 : 7]"
   ]
  },
  {
   "cell_type": "code",
   "execution_count": 25,
   "id": "c18aac16",
   "metadata": {},
   "outputs": [],
   "source": [
    "list_ex1.append([\"yash\",\"ayush\"])"
   ]
  },
  {
   "cell_type": "code",
   "execution_count": 26,
   "id": "73f4e297",
   "metadata": {},
   "outputs": [
    {
     "name": "stdout",
     "output_type": "stream",
     "text": [
      "['Maths', 'Chemistry', 20, 30, 10, 'Physics', ['yash', 'ayush']]\n"
     ]
    }
   ],
   "source": [
    "print(list_ex1)"
   ]
  },
  {
   "cell_type": "code",
   "execution_count": 27,
   "id": "cf7eb8aa",
   "metadata": {},
   "outputs": [
    {
     "data": {
      "text/plain": [
       "list"
      ]
     },
     "execution_count": 27,
     "metadata": {},
     "output_type": "execute_result"
    }
   ],
   "source": [
    "type(list_ex1)"
   ]
  },
  {
   "cell_type": "markdown",
   "id": "6732d806",
   "metadata": {},
   "source": [
    "### Insert Method "
   ]
  },
  {
   "cell_type": "code",
   "execution_count": 28,
   "id": "0e6d2df6",
   "metadata": {},
   "outputs": [],
   "source": [
    "list_ex1.insert(2,'Computer')"
   ]
  },
  {
   "cell_type": "code",
   "execution_count": 29,
   "id": "91a52861",
   "metadata": {},
   "outputs": [
    {
     "data": {
      "text/plain": [
       "['Maths', 'Chemistry', 'Computer', 20, 30, 10, 'Physics', ['yash', 'ayush']]"
      ]
     },
     "execution_count": 29,
     "metadata": {},
     "output_type": "execute_result"
    }
   ],
   "source": [
    "list_ex1"
   ]
  },
  {
   "cell_type": "code",
   "execution_count": 30,
   "id": "40a86404",
   "metadata": {},
   "outputs": [
    {
     "data": {
      "text/plain": [
       "8"
      ]
     },
     "execution_count": 30,
     "metadata": {},
     "output_type": "execute_result"
    }
   ],
   "source": [
    "len(list_ex1)"
   ]
  },
  {
   "cell_type": "code",
   "execution_count": 31,
   "id": "14c62846",
   "metadata": {},
   "outputs": [],
   "source": [
    "list_ex1.insert(8,'Music')"
   ]
  },
  {
   "cell_type": "code",
   "execution_count": 32,
   "id": "09549d19",
   "metadata": {},
   "outputs": [
    {
     "data": {
      "text/plain": [
       "['Maths',\n",
       " 'Chemistry',\n",
       " 'Computer',\n",
       " 20,\n",
       " 30,\n",
       " 10,\n",
       " 'Physics',\n",
       " ['yash', 'ayush'],\n",
       " 'Music']"
      ]
     },
     "execution_count": 32,
     "metadata": {},
     "output_type": "execute_result"
    }
   ],
   "source": [
    "list_ex1"
   ]
  },
  {
   "cell_type": "markdown",
   "id": "a951105e",
   "metadata": {},
   "source": [
    "### Extend Method"
   ]
  },
  {
   "cell_type": "code",
   "execution_count": 33,
   "id": "78cb2d24",
   "metadata": {},
   "outputs": [],
   "source": [
    "list_ex2=[1,2,3]"
   ]
  },
  {
   "cell_type": "code",
   "execution_count": 34,
   "id": "2cf4f68d",
   "metadata": {},
   "outputs": [],
   "source": [
    "list_ex2.extend([4,5])"
   ]
  },
  {
   "cell_type": "code",
   "execution_count": 35,
   "id": "146a272c",
   "metadata": {},
   "outputs": [
    {
     "data": {
      "text/plain": [
       "[1, 2, 3, 4, 5]"
      ]
     },
     "execution_count": 35,
     "metadata": {},
     "output_type": "execute_result"
    }
   ],
   "source": [
    "list_ex2"
   ]
  },
  {
   "cell_type": "code",
   "execution_count": 36,
   "id": "adc1d97f",
   "metadata": {},
   "outputs": [
    {
     "data": {
      "text/plain": [
       "15"
      ]
     },
     "execution_count": 36,
     "metadata": {},
     "output_type": "execute_result"
    }
   ],
   "source": [
    "sum(list_ex2)"
   ]
  },
  {
   "cell_type": "code",
   "execution_count": 37,
   "id": "733303bb",
   "metadata": {},
   "outputs": [],
   "source": [
    "list_ex2 .extend([\"Yash\"])"
   ]
  },
  {
   "cell_type": "code",
   "execution_count": 38,
   "id": "26fa30d3",
   "metadata": {},
   "outputs": [
    {
     "data": {
      "text/plain": [
       "[1, 2, 3, 4, 5, 'Yash']"
      ]
     },
     "execution_count": 38,
     "metadata": {},
     "output_type": "execute_result"
    }
   ],
   "source": [
    "list_ex2"
   ]
  },
  {
   "cell_type": "code",
   "execution_count": 39,
   "id": "eab4641d",
   "metadata": {},
   "outputs": [
    {
     "ename": "TypeError",
     "evalue": "unsupported operand type(s) for +: 'int' and 'str'",
     "output_type": "error",
     "traceback": [
      "\u001b[1;31m---------------------------------------------------------------------------\u001b[0m",
      "\u001b[1;31mTypeError\u001b[0m                                 Traceback (most recent call last)",
      "Input \u001b[1;32mIn [39]\u001b[0m, in \u001b[0;36m<cell line: 1>\u001b[1;34m()\u001b[0m\n\u001b[1;32m----> 1\u001b[0m \u001b[38;5;28;43msum\u001b[39;49m\u001b[43m(\u001b[49m\u001b[43mlist_ex2\u001b[49m\u001b[43m)\u001b[49m\n",
      "\u001b[1;31mTypeError\u001b[0m: unsupported operand type(s) for +: 'int' and 'str'"
     ]
    }
   ],
   "source": [
    "sum(list_ex2)"
   ]
  },
  {
   "cell_type": "code",
   "execution_count": 40,
   "id": "ad48b422",
   "metadata": {},
   "outputs": [
    {
     "data": {
      "text/plain": [
       "'Yash'"
      ]
     },
     "execution_count": 40,
     "metadata": {},
     "output_type": "execute_result"
    }
   ],
   "source": [
    "list_ex2.pop()"
   ]
  },
  {
   "cell_type": "markdown",
   "id": "6434b061",
   "metadata": {},
   "source": [
    "### Count()"
   ]
  },
  {
   "cell_type": "code",
   "execution_count": 41,
   "id": "1d198b8d",
   "metadata": {},
   "outputs": [
    {
     "data": {
      "text/plain": [
       "[1, 2, 3, 4, 5]"
      ]
     },
     "execution_count": 41,
     "metadata": {},
     "output_type": "execute_result"
    }
   ],
   "source": [
    "list_ex2"
   ]
  },
  {
   "cell_type": "code",
   "execution_count": 42,
   "id": "f20bdfe6",
   "metadata": {},
   "outputs": [],
   "source": [
    "list_ex2.extend([1,2])"
   ]
  },
  {
   "cell_type": "code",
   "execution_count": 43,
   "id": "c27be6d5",
   "metadata": {},
   "outputs": [
    {
     "data": {
      "text/plain": [
       "[1, 2, 3, 4, 5, 1, 2]"
      ]
     },
     "execution_count": 43,
     "metadata": {},
     "output_type": "execute_result"
    }
   ],
   "source": [
    "list_ex2"
   ]
  },
  {
   "cell_type": "code",
   "execution_count": 44,
   "id": "075d3325",
   "metadata": {},
   "outputs": [
    {
     "data": {
      "text/plain": [
       "2"
      ]
     },
     "execution_count": 44,
     "metadata": {},
     "output_type": "execute_result"
    }
   ],
   "source": [
    "# count returns the frequency of element in list\n",
    "list_ex2.count(1)"
   ]
  },
  {
   "cell_type": "code",
   "execution_count": 45,
   "id": "85083357",
   "metadata": {},
   "outputs": [
    {
     "data": {
      "text/plain": [
       "2"
      ]
     },
     "execution_count": 45,
     "metadata": {},
     "output_type": "execute_result"
    }
   ],
   "source": [
    "#returns the index of first occurrence of element\n",
    "list_ex2.index(3)"
   ]
  },
  {
   "cell_type": "code",
   "execution_count": 47,
   "id": "38d17085",
   "metadata": {},
   "outputs": [
    {
     "data": {
      "text/plain": [
       "6"
      ]
     },
     "execution_count": 47,
     "metadata": {},
     "output_type": "execute_result"
    }
   ],
   "source": [
    "#returns the index of first occurrence of element from index start to end-1\n",
    "list_ex2.index(2,2,7)"
   ]
  },
  {
   "cell_type": "code",
   "execution_count": 49,
   "id": "05fbc0a9",
   "metadata": {},
   "outputs": [
    {
     "data": {
      "text/plain": [
       "6"
      ]
     },
     "execution_count": 49,
     "metadata": {},
     "output_type": "execute_result"
    }
   ],
   "source": [
    "list_ex2.index(2,2)"
   ]
  },
  {
   "cell_type": "code",
   "execution_count": 50,
   "id": "072def19",
   "metadata": {},
   "outputs": [
    {
     "data": {
      "text/plain": [
       "[1, 2, 3, 4, 5, 1, 2]"
      ]
     },
     "execution_count": 50,
     "metadata": {},
     "output_type": "execute_result"
    }
   ],
   "source": [
    "list_ex2"
   ]
  },
  {
   "cell_type": "code",
   "execution_count": 51,
   "id": "c2efedab",
   "metadata": {},
   "outputs": [
    {
     "data": {
      "text/plain": [
       "[1, 2, 3, 4, 5, 1, 2, 1, 2, 3, 4, 5, 1, 2]"
      ]
     },
     "execution_count": 51,
     "metadata": {},
     "output_type": "execute_result"
    }
   ],
   "source": [
    "list_ex2*2"
   ]
  },
  {
   "cell_type": "code",
   "execution_count": null,
   "id": "0e9409dd",
   "metadata": {},
   "outputs": [],
   "source": []
  }
 ],
 "metadata": {
  "kernelspec": {
   "display_name": "Python 3 (ipykernel)",
   "language": "python",
   "name": "python3"
  },
  "language_info": {
   "codemirror_mode": {
    "name": "ipython",
    "version": 3
   },
   "file_extension": ".py",
   "mimetype": "text/x-python",
   "name": "python",
   "nbconvert_exporter": "python",
   "pygments_lexer": "ipython3",
   "version": "3.9.12"
  }
 },
 "nbformat": 4,
 "nbformat_minor": 5
}
