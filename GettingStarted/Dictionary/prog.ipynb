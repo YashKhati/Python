{
 "cells": [
  {
   "cell_type": "code",
   "execution_count": 2,
   "metadata": {},
   "outputs": [
    {
     "name": "stdout",
     "output_type": "stream",
     "text": [
      "<class 'dict'>\n",
      "{}\n",
      "<class 'dict'>\n",
      "{}\n"
     ]
    }
   ],
   "source": [
    "dic = {}\n",
    "print(type(dic))\n",
    "print(dic)\n",
    "\n",
    "dic1 =dict()\n",
    "print(type(dic1))\n",
    "print(dic1)"
   ]
  },
  {
   "cell_type": "code",
   "execution_count": 3,
   "metadata": {},
   "outputs": [
    {
     "name": "stdout",
     "output_type": "stream",
     "text": [
      "{'Firstname': 'yash', 'lastname': 'khati', 'age': 12, 'section': 'C', 'univ': 20011317}\n",
      "Firstname lastname age section univ \n",
      "Firstname lastname age section univ \n",
      "yash khati 12 C 20011317 \n",
      "Key : Firstname  and  value : yash \n",
      "Key : lastname  and  value : khati \n",
      "Key : age  and  value : 12 \n",
      "Key : section  and  value : C \n",
      "Key : univ  and  value : 20011317 \n"
     ]
    }
   ],
   "source": [
    "dic = { 'Firstname': \"yash\" , 'lastname' : \"khati\" , 'age' : 12 , 'section' : 'C' , 'univ' : 20011317  }\n",
    "print(dic)\n",
    "\n",
    "# itterating over keys\n",
    "for i in dic:\n",
    "    print(i , end=' ') \n",
    "\n",
    "print()\n",
    "for i in dic.keys():\n",
    "    print(i , end =\" \") \n",
    "print()\n",
    "\n",
    "# itterating over values\n",
    "for i in dic.values():\n",
    "    print(i,end = \" \" ) \n",
    "print()\n",
    "\n",
    "for k,v in dic.items():\n",
    "    print(f'Key : {k}  and  value : {v} '.format(k , v))\n",
    "    "
   ]
  },
  {
   "cell_type": "code",
   "execution_count": 20,
   "metadata": {},
   "outputs": [
    {
     "name": "stdout",
     "output_type": "stream",
     "text": [
      "{'Firstname': 'yash', 'lastname': 'khati', 'age': 12, 'section': 'C', 'univ': 20011317}\n",
      "present\n",
      "True\n",
      "khati\n",
      "dict_keys(['Firstname', 'lastname', 'age', 'section', 'univ'])\n",
      "dict_values(['yash', 'khati', 12, 'C', 20011317])\n",
      "dict_items([('Firstname', 'yash'), ('lastname', 'khati'), ('age', 12), ('section', 'C'), ('univ', 20011317)])\n"
     ]
    }
   ],
   "source": [
    "dic = { 'Firstname': \"yash\" , 'lastname' : \"khati\" , 'age' : 12 , 'section' : 'C' , 'univ' : 20011317  }\n",
    "print(dic)\n",
    "\n",
    "\n",
    "if 'Firstname' in  dic:\n",
    "    print('present')\n",
    "else:\n",
    "    print('Not present')\n",
    "\n",
    "\n",
    "print(dic.__contains__('Firstname'))\n",
    "\n",
    "\n",
    "print(dic.get('lastname'))  # returns key if key present else none\n",
    "\n",
    "print(dic.keys()) # returns list containing dictionary keys\n",
    "\n",
    "print(dic.values()) # returns list containing dictionary values\n",
    "\n",
    "print(dic.items()) # returns tuples of key value pairs in dictionary\n",
    "\n"
   ]
  },
  {
   "cell_type": "code",
   "execution_count": 24,
   "metadata": {},
   "outputs": [
    {
     "name": "stdout",
     "output_type": "stream",
     "text": [
      "{'Firstname': 'yash', 'lastname': 'khati', 'age': 12, 'section': 'C', 'univ': 20011317}\n",
      "khati\n",
      "{'Firstname': 'yash', 'age': 12, 'section': 'C', 'univ': 20011317}\n",
      "{'Firstname': 'yash', 'age': 12, 'section': 'C', 'univ': 20011317, 'Semester': 7, 'CGPA': 8.5}\n",
      "('CGPA', 8.5)\n",
      "{'Firstname': 'yash', 'age': 12, 'section': 'C', 'univ': 20011317, 'Semester': 7}\n"
     ]
    }
   ],
   "source": [
    "dic = { 'Firstname': \"yash\" , 'lastname' : \"khati\" , 'age' : 12 , 'section' : 'C' , 'univ' : 20011317  }\n",
    "print(dic)\n",
    "\n",
    "print(dic.pop('lastname')) # pop mentioned key-value pair\n",
    "print(dic)\n",
    "\n",
    "dic2 = {\"Semester\" : 7 , \"CGPA\" : 8.5}\n",
    "dic.update( dic2)\n",
    "print(dic)\n",
    "\n",
    "print(dic.popitem()) # pop last key-value pair\n",
    "print(dic)"
   ]
  },
  {
   "cell_type": "code",
   "execution_count": 6,
   "metadata": {},
   "outputs": [
    {
     "name": "stdout",
     "output_type": "stream",
     "text": [
      "{'Name': {'firstname': 'yash', 'lastname': 'khati'}, 'Age': 22, 'Section ': 'C', 'Course': {'Stream': 'B.Tech ', 'Specialization': ' Computer Science and Engineering'}}\n",
      "{'Age': 22,\n",
      " 'Course': {'Specialization': ' Computer Science and Engineering',\n",
      "            'Stream': 'B.Tech '},\n",
      " 'Name': {'firstname': 'yash', 'lastname': 'khati'},\n",
      " 'Section ': 'C'}\n"
     ]
    }
   ],
   "source": [
    "# Nested\n",
    "\n",
    "dic = {\"Name\" : {\"firstname\" : \"yash\" , \"lastname\" : \"khati\" } ,\n",
    "       \"Age\" : 22 , \n",
    "       \"Section \" :  \"C\" ,\n",
    "       \"Course\" : { \"Stream\" : \"B.Tech \" , \"Specialization\":\" Computer Science and Engineering\"  } \n",
    "      }\n",
    "\n",
    "print(dic)\n",
    "\n",
    "import pprint\n",
    "pprint.pprint(dic)"
   ]
  },
  {
   "cell_type": "code",
   "execution_count": 7,
   "metadata": {},
   "outputs": [
    {
     "name": "stdout",
     "output_type": "stream",
     "text": [
      "{'Name': {'firstname': 'yash', 'lastname': 'khati'}, 'Age': 22, 'Section ': 'C', 'Course': {'Stream': 'B.Tech ', 'Specialization': ' Computer Science and Engineering'}}\n"
     ]
    }
   ],
   "source": []
  },
  {
   "cell_type": "code",
   "execution_count": null,
   "metadata": {},
   "outputs": [],
   "source": []
  }
 ],
 "metadata": {
  "kernelspec": {
   "display_name": "Python 3",
   "language": "python",
   "name": "python3"
  },
  "language_info": {
   "codemirror_mode": {
    "name": "ipython",
    "version": 3
   },
   "file_extension": ".py",
   "mimetype": "text/x-python",
   "name": "python",
   "nbconvert_exporter": "python",
   "pygments_lexer": "ipython3",
   "version": "3.10.13"
  }
 },
 "nbformat": 4,
 "nbformat_minor": 2
}
