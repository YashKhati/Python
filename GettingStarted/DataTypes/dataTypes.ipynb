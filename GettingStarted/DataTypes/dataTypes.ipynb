{
 "cells": [
  {
   "cell_type": "code",
   "execution_count": 6,
   "metadata": {},
   "outputs": [
    {
     "name": "stdout",
     "output_type": "stream",
     "text": [
      " a =  <class 'int'>\n",
      " b =  <class 'float'>\n",
      " c =  <class 'complex'>\n",
      " d =  <class 'bool'>\n",
      " e =  <class 'bytes'>\n"
     ]
    }
   ],
   "source": [
    "a , b, c , d ,e = 23 , 23.5 , 5j , True , b\"Hello\" \n",
    "print(\" a = \",type(a))\n",
    "print(\" b = \",type(b))\n",
    "print(\" c = \",type(c))\n",
    "print(\" d = \",type(d))\n",
    "print(\" e = \",type(e))"
   ]
  },
  {
   "cell_type": "code",
   "execution_count": 7,
   "metadata": {},
   "outputs": [
    {
     "name": "stdout",
     "output_type": "stream",
     "text": [
      " x =  <class 'list'>\n",
      " y =  <class 'dict'>\n",
      " z =  <class 'tuple'>\n"
     ]
    }
   ],
   "source": [
    "x = []\n",
    "y = {}\n",
    "z = ()\n",
    "print(\" x = \",type(x))\n",
    "print(\" y = \",type(y))\n",
    "print(\" z = \",type(z))\n"
   ]
  },
  {
   "cell_type": "code",
   "execution_count": 11,
   "metadata": {},
   "outputs": [
    {
     "name": "stdout",
     "output_type": "stream",
     "text": [
      "x =  <class 'range'>\n",
      "y =  <class 'NoneType'>\n"
     ]
    }
   ],
   "source": [
    "x = range(6)\n",
    "print(\"x = \",type(x))\n",
    "y = None\n",
    "print(\"y = \",type(y))\n"
   ]
  },
  {
   "cell_type": "code",
   "execution_count": null,
   "metadata": {},
   "outputs": [],
   "source": []
  }
 ],
 "metadata": {
  "kernelspec": {
   "display_name": "Python 3",
   "language": "python",
   "name": "python3"
  },
  "language_info": {
   "codemirror_mode": {
    "name": "ipython",
    "version": 3
   },
   "file_extension": ".py",
   "mimetype": "text/x-python",
   "name": "python",
   "nbconvert_exporter": "python",
   "pygments_lexer": "ipython3",
   "version": "3.10.13"
  }
 },
 "nbformat": 4,
 "nbformat_minor": 2
}
