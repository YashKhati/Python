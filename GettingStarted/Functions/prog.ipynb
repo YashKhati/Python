{
 "cells": [
  {
   "cell_type": "code",
   "execution_count": 2,
   "metadata": {},
   "outputs": [
    {
     "name": "stdout",
     "output_type": "stream",
     "text": [
      "21\n"
     ]
    }
   ],
   "source": [
    "n = int(input(\"Enter Value : \"))\n",
    "def fibo(n):\n",
    "    if n < 2:\n",
    "        return n\n",
    "    return fibo(n-1) + fibo(n-2)\n",
    "\n",
    "print(fibo(n))"
   ]
  },
  {
   "cell_type": "code",
   "execution_count": 6,
   "metadata": {},
   "outputs": [
    {
     "name": "stdout",
     "output_type": "stream",
     "text": [
      "name : yash and age : 23\n",
      "name : 23 and age : yash\n",
      "name : yash and age : 23\n",
      "name : yash and age : 23\n",
      "name : yash and age : 22\n"
     ]
    }
   ],
   "source": [
    "def fun(name , age=22):\n",
    "    print(f\"name : {name} and age : {age}\".format(name,age))\n",
    "\n",
    "fun(\"yash\" , 23)\n",
    "\n",
    "fun(23 , \"yash\")\n",
    "\n",
    "fun(name = \"yash\" , age = 23)\n",
    "fun(age = 23 ,name = \"yash\" )\n",
    "\n",
    "fun(\"yash\")\n"
   ]
  },
  {
   "cell_type": "code",
   "execution_count": 7,
   "metadata": {},
   "outputs": [
    {
     "name": "stdout",
     "output_type": "stream",
     "text": [
      "[1, 2, 3, 4]\n"
     ]
    }
   ],
   "source": [
    "def fun(ls):\n",
    "    ls = [22,23,24]\n",
    "\n",
    "ls = [1,2,3,4]\n",
    "fun(ls)\n",
    "print(ls)"
   ]
  },
  {
   "cell_type": "code",
   "execution_count": null,
   "metadata": {},
   "outputs": [],
   "source": []
  }
 ],
 "metadata": {
  "kernelspec": {
   "display_name": "Python 3",
   "language": "python",
   "name": "python3"
  },
  "language_info": {
   "codemirror_mode": {
    "name": "ipython",
    "version": 3
   },
   "file_extension": ".py",
   "mimetype": "text/x-python",
   "name": "python",
   "nbconvert_exporter": "python",
   "pygments_lexer": "ipython3",
   "version": "3.10.13"
  }
 },
 "nbformat": 4,
 "nbformat_minor": 2
}
