{
 "cells": [
  {
   "cell_type": "code",
   "execution_count": 4,
   "metadata": {},
   "outputs": [
    {
     "name": "stdout",
     "output_type": "stream",
     "text": [
      "<class 'str'>\n",
      "22\n",
      "hello I am 12 year old\n"
     ]
    }
   ],
   "source": [
    "str = input(\"Enter string : \")\n",
    "print(type(str))\n",
    "print(len(str))\n",
    "print(str)"
   ]
  },
  {
   "cell_type": "code",
   "execution_count": 7,
   "metadata": {},
   "outputs": [
    {
     "name": "stdout",
     "output_type": "stream",
     "text": [
      "['Yash', 'Khati', '22-years-old']\n",
      "['Yash Khati 22', 'years', 'old']\n"
     ]
    }
   ],
   "source": [
    "str =  \"Yash Khati 22-years-old\"\n",
    "split_str = str.split()\n",
    "print(split_str)\n",
    "\n",
    "split_str = str.split(\"-\")\n",
    "print(split_str)"
   ]
  },
  {
   "cell_type": "code",
   "execution_count": 1,
   "metadata": {},
   "outputs": [
    {
     "name": "stdout",
     "output_type": "stream",
     "text": [
      "2\n",
      "1\n",
      "yash khati\n",
      "Yash khati\n"
     ]
    }
   ],
   "source": [
    "str = \"Yash Khati\"\n",
    "\n",
    "print(str.count('a')) # count number of elements\n",
    "\n",
    "print(str.index('a')) # give first index of element\n",
    "\n",
    "print(str.casefold()) # returns copy of original string converting capital letter to smaller\n",
    "\n",
    "print(str.capitalize()) "
   ]
  },
  {
   "cell_type": "code",
   "execution_count": null,
   "metadata": {},
   "outputs": [],
   "source": []
  }
 ],
 "metadata": {
  "kernelspec": {
   "display_name": "Python 3",
   "language": "python",
   "name": "python3"
  },
  "language_info": {
   "codemirror_mode": {
    "name": "ipython",
    "version": 3
   },
   "file_extension": ".py",
   "mimetype": "text/x-python",
   "name": "python",
   "nbconvert_exporter": "python",
   "pygments_lexer": "ipython3",
   "version": "3.10.13"
  }
 },
 "nbformat": 4,
 "nbformat_minor": 2
}
