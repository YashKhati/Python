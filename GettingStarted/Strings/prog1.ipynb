{
 "cells": [
  {
   "cell_type": "code",
   "execution_count": 4,
   "metadata": {},
   "outputs": [
    {
     "name": "stdout",
     "output_type": "stream",
     "text": [
      "<class 'str'>\n",
      "22\n",
      "hello I am 12 year old\n"
     ]
    }
   ],
   "source": [
    "str = input(\"Enter string : \")\n",
    "print(type(str))\n",
    "print(len(str))\n",
    "print(str)"
   ]
  },
  {
   "cell_type": "code",
   "execution_count": 7,
   "metadata": {},
   "outputs": [
    {
     "name": "stdout",
     "output_type": "stream",
     "text": [
      "['Yash', 'Khati', '22-years-old']\n",
      "['Yash Khati 22', 'years', 'old']\n"
     ]
    }
   ],
   "source": [
    "str =  \"Yash Khati 22-years-old\"\n",
    "split_str = str.split()\n",
    "print(split_str)\n",
    "\n",
    "split_str = str.split(\"-\")\n",
    "print(split_str)"
   ]
  },
  {
   "cell_type": "code",
   "execution_count": 1,
   "metadata": {},
   "outputs": [
    {
     "name": "stdout",
     "output_type": "stream",
     "text": [
      "2\n",
      "1\n",
      "yash khati\n",
      "Yash khati\n"
     ]
    }
   ],
   "source": [
    "str = \"Yash Khati\"\n",
    "\n",
    "print(str.count('a')) # count number of elements\n",
    "\n",
    "print(str.index('a')) # give first index of element\n",
    "\n",
    "print(str.casefold()) # returns copy of original string converting capital letter to smaller\n",
    "\n",
    "print(str.capitalize()) "
   ]
  },
  {
   "cell_type": "code",
   "execution_count": 5,
   "metadata": {},
   "outputs": [
    {
     "name": "stdout",
     "output_type": "stream",
     "text": [
      "str1 = yash and id = 139825564738544 \n",
      "str2 = khati and id = 139825293404528 \n",
      "str1 = yashkhati and id = 139825289088112 \n"
     ]
    }
   ],
   "source": [
    "str1 = \"yash\"\n",
    "print(\"str1 = {} and id = {} \".format(str1,id(str1)))\n",
    "\n",
    "str2 = \"khati\"\n",
    "print(\"str2 = {} and id = {} \".format(str2,id(str2)))\n",
    "\n",
    "str1 = str1+str2\n",
    "print(\"str1 = {} and id = {} \".format(str1,id(str1)))\n",
    "\n",
    "\n"
   ]
  },
  {
   "cell_type": "code",
   "execution_count": 15,
   "metadata": {},
   "outputs": [
    {
     "name": "stdout",
     "output_type": "stream",
     "text": [
      "str1= hello world and str2 = heyyo woryd\n",
      "str1= hello world and str2 = llo world\n",
      "str1= hello world and str2 = hello world\n",
      "str1= hello world and str2 = hello wor\n",
      "str1= hello world and str2 = hello world\n"
     ]
    }
   ],
   "source": [
    "str1 = \"hello world\"\n",
    "\n",
    "str2 = str1.replace('l','y')\n",
    "print(\"str1= {} and str2 = {}\".format(str1,str2))\n",
    "\n",
    "str2 = str1.removeprefix(\"he\")\n",
    "print(\"str1= {} and str2 = {}\".format(str1,str2))\n",
    "\n",
    "str2 = str1.removeprefix(\"ll\")\n",
    "print(\"str1= {} and str2 = {}\".format(str1,str2))\n",
    "\n",
    "str2 = str1.removesuffix(\"ld\")\n",
    "print(\"str1= {} and str2 = {}\".format(str1,str2))\n",
    "\n",
    "str2 = str1.removesuffix(\"lo\")\n",
    "print(\"str1= {} and str2 = {}\".format(str1,str2))\n"
   ]
  },
  {
   "cell_type": "code",
   "execution_count": null,
   "metadata": {},
   "outputs": [],
   "source": []
  }
 ],
 "metadata": {
  "kernelspec": {
   "display_name": "Python 3",
   "language": "python",
   "name": "python3"
  },
  "language_info": {
   "codemirror_mode": {
    "name": "ipython",
    "version": 3
   },
   "file_extension": ".py",
   "mimetype": "text/x-python",
   "name": "python",
   "nbconvert_exporter": "python",
   "pygments_lexer": "ipython3",
   "version": "3.10.13"
  }
 },
 "nbformat": 4,
 "nbformat_minor": 2
}
