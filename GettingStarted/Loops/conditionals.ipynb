{
 "cells": [
  {
   "cell_type": "code",
   "execution_count": 2,
   "metadata": {},
   "outputs": [
    {
     "name": "stdout",
     "output_type": "stream",
     "text": [
      "run a\n",
      "not run b\n",
      "run c\n"
     ]
    }
   ],
   "source": [
    "a , b ,c = 1 , 0, -1\n",
    "if(a):\n",
    "    print(\"run a\")\n",
    "else:\n",
    "    print(\"not run a\")\n",
    "\n",
    "if(b):\n",
    "    print(\"run b\")\n",
    "else:\n",
    "    print(\"not run b\")\n",
    "\n",
    "\n",
    "if(c):\n",
    "    print(\"run c\")\n",
    "else:\n",
    "    print(\"not run c\")\n",
    "    "
   ]
  },
  {
   "cell_type": "code",
   "execution_count": 3,
   "metadata": {},
   "outputs": [
    {
     "name": "stdout",
     "output_type": "stream",
     "text": [
      "run\n",
      "not run\n"
     ]
    }
   ],
   "source": [
    "a , b = True ,False\n",
    "\n",
    "if(a):\n",
    "    print(\"run\")\n",
    "else:\n",
    "    print(\"not run\")\n",
    "\n",
    "\n",
    "if(b):\n",
    "    print(\"run\")\n",
    "else:\n",
    "    print(\"not run\")\n",
    "    \n"
   ]
  },
  {
   "cell_type": "code",
   "execution_count": null,
   "metadata": {},
   "outputs": [],
   "source": []
  }
 ],
 "metadata": {
  "kernelspec": {
   "display_name": "Python 3",
   "language": "python",
   "name": "python3"
  },
  "language_info": {
   "codemirror_mode": {
    "name": "ipython",
    "version": 3
   },
   "file_extension": ".py",
   "mimetype": "text/x-python",
   "name": "python",
   "nbconvert_exporter": "python",
   "pygments_lexer": "ipython3",
   "version": "3.10.13"
  }
 },
 "nbformat": 4,
 "nbformat_minor": 2
}
