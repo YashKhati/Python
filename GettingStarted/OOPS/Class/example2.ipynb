{
 "cells": [
  {
   "cell_type": "markdown",
   "metadata": {},
   "source": [
    "Class Method and Static method"
   ]
  },
  {
   "cell_type": "code",
   "execution_count": 4,
   "metadata": {},
   "outputs": [
    {
     "name": "stdout",
     "output_type": "stream",
     "text": [
      "1.03\n",
      "1.05\n"
     ]
    }
   ],
   "source": [
    "class Employee:\n",
    "    num_emps = 0\n",
    "    raise_amount = 1.03\n",
    "\n",
    "    def __init__(self,name,sal) -> None:\n",
    "        self.name = name\n",
    "        self.sal = sal\n",
    "        self.email = name+'@company.com'\n",
    "    \n",
    "    def details(self) -> str:\n",
    "        return 'name = {}  and email = {} '.format(self.name,self.email)\n",
    "    \n",
    "    def applyRaise(self) -> None:\n",
    "        self.sal = self.sal * Employee.raise_amount\n",
    "\n",
    "    @classmethod\n",
    "    def set_raise_amount(cls, amount):\n",
    "        cls.raise_amount = amount\n",
    "    \n",
    "    @classmethod\n",
    "    def from_string(cls, emp_str) -> 'Employee' :\n",
    "        first , sal = emp_str.split('-')\n",
    "        return cls(first,sal)\n",
    "    \n",
    "emp1 = Employee(\"Yash Khati\" , 40000)\n",
    "emp2 = Employee(\"Ayush Rawat\" , 35000)\n",
    "\n",
    "print(Employee.raise_amount)\n",
    "\n",
    "Employee.set_raise_amount(1.05)\n",
    "print(Employee.raise_amount)\n",
    "\n",
    "\n"
   ]
  },
  {
   "cell_type": "code",
   "execution_count": 6,
   "metadata": {},
   "outputs": [
    {
     "name": "stdout",
     "output_type": "stream",
     "text": [
      "john doe\n",
      "50000\n",
      "john doe@company.com\n"
     ]
    }
   ],
   "source": [
    "emp_str1 = 'john doe-50000'\n",
    "emp_str2 = 'Steven Smith-20000'\n",
    "emp_str3 = 'swayam gill-10000'\n",
    "'''\n",
    "\n",
    "first , sal = emp_str1.split('-')\n",
    "new_emp1 = Employee(first,sal) \n",
    "print(new_emp1.name)\n",
    "print(new_emp1.sal)\n",
    "print(new_emp1.email)\n",
    "\n",
    "'''\n",
    "new_emp1 = Employee.from_string(emp_str1)\n",
    "print(new_emp1.name)\n",
    "print(new_emp1.sal)\n",
    "print(new_emp1.email)\n",
    "\n"
   ]
  },
  {
   "cell_type": "code",
   "execution_count": null,
   "metadata": {},
   "outputs": [],
   "source": []
  }
 ],
 "metadata": {
  "kernelspec": {
   "display_name": "Python 3",
   "language": "python",
   "name": "python3"
  },
  "language_info": {
   "codemirror_mode": {
    "name": "ipython",
    "version": 3
   },
   "file_extension": ".py",
   "mimetype": "text/x-python",
   "name": "python",
   "nbconvert_exporter": "python",
   "pygments_lexer": "ipython3",
   "version": "3.10.13"
  }
 },
 "nbformat": 4,
 "nbformat_minor": 2
}
