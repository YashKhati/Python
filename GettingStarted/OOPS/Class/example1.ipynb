{
 "cells": [
  {
   "cell_type": "code",
   "execution_count": 19,
   "metadata": {},
   "outputs": [],
   "source": [
    "class Dog:\n",
    "\n",
    "    staticVar= \"Bark\"\n",
    "\n",
    "    def __init__(self,name,breed):\n",
    "        self.name = name\n",
    "        self.breed = breed\n",
    "\n",
    "    def getDetails(self):\n",
    "        print(\"Dog name : {} and breed  {}\".format(self.name,self.breed))\n",
    "       "
   ]
  },
  {
   "cell_type": "code",
   "execution_count": 20,
   "metadata": {},
   "outputs": [
    {
     "name": "stdout",
     "output_type": "stream",
     "text": [
      "Bark\n",
      "Dog name : Oscar and breed  Doberman\n",
      "Bark\n",
      "Dog name : Moti and breed  Pug\n",
      "Bark\n",
      "howl\n",
      "howl\n"
     ]
    }
   ],
   "source": [
    "print(Dog.staticVar) # print static/class variable\n",
    "\n",
    "ob1 = Dog(\"Oscar\",\"Doberman\")\n",
    "ob1.getDetails()\n",
    "print(ob1.staticVar) \n",
    "\n",
    "ob2 = Dog(\"Moti\",\"Pug\")\n",
    "ob2.getDetails()\n",
    "print(ob2.staticVar)\n",
    "\n",
    "''' \n",
    "below code does not change value of staticVar  instead it creates instance \n",
    "level variable for ob2 . This new attribute is separate from the class-level\n",
    "static variable, and it only affects the ob2 instance.The class-level static \n",
    "variable for Dog remains unchanged.\n",
    "\n",
    "\n",
    "ob2.staticVar = \"changed\"  \n",
    "print(ob2.staticVar) # changed\n",
    "print(ob1.staticVar) # bark\n",
    "\n",
    "'''\n",
    "\n",
    "Dog.staticVar = \"howl\" # changing static variable for Dog class\n",
    "print(ob2.staticVar)\n",
    "print(ob1.staticVar)\n",
    "\n"
   ]
  },
  {
   "cell_type": "code",
   "execution_count": 26,
   "metadata": {},
   "outputs": [
    {
     "name": "stdout",
     "output_type": "stream",
     "text": [
      "<__main__.Employee object at 0x7fd324289780>\n",
      "<__main__.Employee object at 0x7fd324288dc0>\n",
      "Yash\n"
     ]
    }
   ],
   "source": [
    "# Pass \n",
    "\n",
    "class Employee:\n",
    "    pass\n",
    "\n",
    "em1 = Employee()\n",
    "em2 = Employee()\n",
    "print(em1)\n",
    "print(em2)\n",
    "\n",
    "Employee.name = \"Yash\" # manually declaring class variable\n",
    "\n",
    "'''\n",
    "print(em1.name)\n",
    "print(em2.name)\n",
    "\n",
    "since name is class variable use it with class name i.e Employee.name\n",
    "'''\n",
    "print(Employee.name)\n"
   ]
  },
  {
   "cell_type": "code",
   "execution_count": 37,
   "metadata": {},
   "outputs": [
    {
     "name": "stdout",
     "output_type": "stream",
     "text": [
      "yash khati\n",
      "Ayush Rawat\n",
      "1.04\n",
      "1.04\n",
      "1.04\n",
      "{'first': 'yash', 'last': 'khati', 'salary': 40000, 'email': 'yashkhati@mail.com'}\n",
      "{'first': 'Ayush', 'last': 'Rawat', 'salary': 35000, 'email': 'AyushRawat@mail.com'}\n",
      "{'__module__': '__main__', 'raise_amount': 1.04, '__init__': <function Workers.__init__ at 0x7fd30e40edd0>, 'fullname': <function Workers.fullname at 0x7fd30e40ed40>, 'apply_raise': <function Workers.apply_raise at 0x7fd30e40f0a0>, '__dict__': <attribute '__dict__' of 'Workers' objects>, '__weakref__': <attribute '__weakref__' of 'Workers' objects>, '__doc__': None}\n",
      "1.05\n",
      "1.05\n",
      "1.05\n",
      "{'__module__': '__main__', 'raise_amount': 1.05, '__init__': <function Workers.__init__ at 0x7fd30e40edd0>, 'fullname': <function Workers.fullname at 0x7fd30e40ed40>, 'apply_raise': <function Workers.apply_raise at 0x7fd30e40f0a0>, '__dict__': <attribute '__dict__' of 'Workers' objects>, '__weakref__': <attribute '__weakref__' of 'Workers' objects>, '__doc__': None}\n",
      "{'first': 'yash', 'last': 'khati', 'salary': 40000, 'email': 'yashkhati@mail.com'}\n",
      "{'first': 'Ayush', 'last': 'Rawat', 'salary': 35000, 'email': 'AyushRawat@mail.com'}\n",
      "1.05\n",
      "1.08\n",
      "1.05\n",
      "{'__module__': '__main__', 'raise_amount': 1.05, '__init__': <function Workers.__init__ at 0x7fd30e40edd0>, 'fullname': <function Workers.fullname at 0x7fd30e40ed40>, 'apply_raise': <function Workers.apply_raise at 0x7fd30e40f0a0>, '__dict__': <attribute '__dict__' of 'Workers' objects>, '__weakref__': <attribute '__weakref__' of 'Workers' objects>, '__doc__': None}\n",
      "{'first': 'yash', 'last': 'khati', 'salary': 40000, 'email': 'yashkhati@mail.com', 'raise_amount': 1.08}\n",
      "{'first': 'Ayush', 'last': 'Rawat', 'salary': 35000, 'email': 'AyushRawat@mail.com'}\n"
     ]
    }
   ],
   "source": [
    "\n",
    "class Workers:\n",
    "    raise_amount= 1.04\n",
    "\n",
    "    def __init__(self,first,last,salary):\n",
    "        self.first = first\n",
    "        self.last = last\n",
    "        self.salary = salary\n",
    "        self.email = first+last+'@mail.com'\n",
    "    \n",
    "    def fullname(self):\n",
    "        return '{} {}'.format(self.first,self.last)\n",
    "    \n",
    "    def apply_raise(self):\n",
    "        self.pay = self.pay * Workers.raise_amount\n",
    "        # we can also use self.raise_amount instead of Workers.raise_amount\n",
    "    \n",
    "work1 = Workers(\"yash\",\"khati\",40000)\n",
    "work2= Workers(\"Ayush\",\"Rawat\",35000)\n",
    "\n",
    "print(work1.fullname())\n",
    "print(work2.fullname())\n",
    "    \n",
    "print(Workers.raise_amount)\n",
    "print(work1.raise_amount)\n",
    "print(work2.raise_amount) \n",
    "\n",
    "\n",
    "# seeing what the instance have\n",
    "print(work1.__dict__)\n",
    "print(work2.__dict__)\n",
    "# seeing what the Class have\n",
    "print(Workers.__dict__)\n",
    "\n",
    "Workers.raise_amount = 1.05\n",
    "print(Workers.raise_amount)\n",
    "print(work1.raise_amount)\n",
    "print(work2.raise_amount) \n",
    "\n",
    "# Again seeing namespace \n",
    "print(Workers.__dict__)\n",
    "print(work1.__dict__)\n",
    "print(work2.__dict__)\n",
    "\n",
    "\n",
    "work1.raise_amount = 1.08\n",
    "print(Workers.raise_amount)\n",
    "print(work1.raise_amount)\n",
    "print(work2.raise_amount) \n",
    "\n",
    "# Again seeing namespace \n",
    "print(Workers.__dict__)\n",
    "print(work1.__dict__)\n",
    "print(work2.__dict__)\n"
   ]
  }
 ],
 "metadata": {
  "kernelspec": {
   "display_name": "Python 3",
   "language": "python",
   "name": "python3"
  },
  "language_info": {
   "codemirror_mode": {
    "name": "ipython",
    "version": 3
   },
   "file_extension": ".py",
   "mimetype": "text/x-python",
   "name": "python",
   "nbconvert_exporter": "python",
   "pygments_lexer": "ipython3",
   "version": "3.10.13"
  }
 },
 "nbformat": 4,
 "nbformat_minor": 2
}
