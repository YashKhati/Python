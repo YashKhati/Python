{
 "cells": [
  {
   "cell_type": "code",
   "execution_count": 1,
   "metadata": {},
   "outputs": [],
   "source": [
    "class Employee:\n",
    "    num_emps = 0\n",
    "    raise_amount = 1.03\n",
    "\n",
    "    def __init__(self,name,sal) -> None:\n",
    "        self.name = name\n",
    "        self.sal = sal\n",
    "        self.email = name+'@company.com'\n",
    "    \n",
    "    def details(self) -> str:\n",
    "        return 'name = {}  and email = {} '.format(self.name,self.email)\n",
    "    \n",
    "    def applyRaise(self) -> None:\n",
    "        self.sal = self.sal * self.raise_amount\n",
    "\n",
    "    @classmethod\n",
    "    def set_raise_amount(cls, amount):\n",
    "        cls.raise_amount = amount\n",
    "    \n",
    "    @classmethod\n",
    "    def from_string(cls, emp_str) -> 'Employee' :\n",
    "        first , sal = emp_str.split('-')\n",
    "        return cls(first,sal)"
   ]
  },
  {
   "cell_type": "code",
   "execution_count": 2,
   "metadata": {},
   "outputs": [],
   "source": [
    "class Developer(Employee):\n",
    "    raise_amount = 1.10\n",
    "\n",
    "    def __init__(self, name, sal,prog_lang) -> None:\n",
    "        super().__init__(name, sal)\n",
    "        self.prog_lang = prog_lang"
   ]
  },
  {
   "cell_type": "code",
   "execution_count": 3,
   "metadata": {},
   "outputs": [],
   "source": [
    "class Manager(Employee):\n",
    "    def __init__(self, name, sal, employees) -> None:\n",
    "        super().__init__(name, sal)\n",
    "        if employees == None:\n",
    "            self.employees = []\n",
    "        else:\n",
    "            self.employees = employees\n",
    "    \n",
    "    def addEmployees(self , emp):\n",
    "        if emp not in self.employees:\n",
    "            self.employees.append(emp)\n",
    "    \n",
    "    def removeEmployees(self , emp):\n",
    "        if emp in self.employees:\n",
    "            self.employees.remove(emp)\n",
    "    \n",
    "    def printEmployees(self):\n",
    "        print(\"Manager \"+self.name)\n",
    "        for emp in self.employees:\n",
    "            print(' --> ',emp.name)"
   ]
  },
  {
   "cell_type": "code",
   "execution_count": 8,
   "metadata": {},
   "outputs": [
    {
     "name": "stdout",
     "output_type": "stream",
     "text": [
      "Manager yash khati\n",
      "Manager yash khati\n",
      " -->  Rahul Bisht\n",
      " -->  Saurabh\n"
     ]
    }
   ],
   "source": [
    "dev1 = Developer(\"Saurabh\",50000,'C++')\n",
    "dev2 = Developer(\"Rahul Bisht\",60000,'Java')\n",
    "mng1 = Manager(\"yash khati\" , 90000,None)\n",
    "\n",
    "mng1.printEmployees()\n",
    "mng1.addEmployees(dev2)\n",
    "mng1.addEmployees(dev1)\n",
    "mng1.printEmployees()"
   ]
  },
  {
   "cell_type": "code",
   "execution_count": 13,
   "metadata": {},
   "outputs": [
    {
     "name": "stdout",
     "output_type": "stream",
     "text": [
      "<__main__.Developer object at 0x7ff9e5c843a0>\n",
      "<__main__.Manager object at 0x7ff9dc626920>\n",
      "<__main__.Developer object at 0x7ff9e5c843a0>\n",
      "<__main__.Manager object at 0x7ff9dc626920>\n"
     ]
    }
   ],
   "source": [
    "print(repr(dev1))\n",
    "print(repr(mng1))\n",
    "print(str(dev1))\n",
    "print(str(mng1))"
   ]
  },
  {
   "cell_type": "code",
   "execution_count": null,
   "metadata": {},
   "outputs": [],
   "source": []
  }
 ],
 "metadata": {
  "kernelspec": {
   "display_name": "Python 3",
   "language": "python",
   "name": "python3"
  },
  "language_info": {
   "codemirror_mode": {
    "name": "ipython",
    "version": 3
   },
   "file_extension": ".py",
   "mimetype": "text/x-python",
   "name": "python",
   "nbconvert_exporter": "python",
   "pygments_lexer": "ipython3",
   "version": "3.10.13"
  }
 },
 "nbformat": 4,
 "nbformat_minor": 2
}
