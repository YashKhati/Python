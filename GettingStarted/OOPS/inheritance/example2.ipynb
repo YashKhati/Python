{
 "cells": [
  {
   "cell_type": "code",
   "execution_count": 19,
   "metadata": {},
   "outputs": [],
   "source": [
    "class Employee:\n",
    "    num_emps = 0\n",
    "    raise_amount = 1.03\n",
    "\n",
    "    def __init__(self,name,sal) -> None:\n",
    "        self.name = name\n",
    "        self.sal = sal\n",
    "        self.email = name+'@company.com'\n",
    "    \n",
    "    def details(self) -> str:\n",
    "        return 'name = {}  and email = {} '.format(self.name,self.email)\n",
    "    \n",
    "    def applyRaise(self) -> None:\n",
    "        self.sal = self.sal * self.raise_amount\n",
    "\n",
    "    @classmethod\n",
    "    def set_raise_amount(cls, amount):\n",
    "        cls.raise_amount = amount\n",
    "    \n",
    "    @classmethod\n",
    "    def from_string(cls, emp_str) -> 'Employee' :\n",
    "        first , sal = emp_str.split('-')\n",
    "        return cls(first,sal)"
   ]
  },
  {
   "cell_type": "code",
   "execution_count": 20,
   "metadata": {},
   "outputs": [],
   "source": [
    "class Developer(Employee):\n",
    "    raise_amount = 1.10\n",
    "\n",
    "    def __init__(self, name, sal,prog_lang) -> None:\n",
    "        super().__init__(name, sal)\n",
    "        self.prog_lang = prog_lang"
   ]
  },
  {
   "cell_type": "code",
   "execution_count": 21,
   "metadata": {},
   "outputs": [
    {
     "name": "stdout",
     "output_type": "stream",
     "text": [
      "Saurabh@company.com\n",
      "C++\n",
      "Rahul Bisht@company.com\n",
      "Java\n"
     ]
    }
   ],
   "source": [
    "dev1 = Developer(\"Saurabh\",50000,'C++')\n",
    "dev2 = Developer(\"Rahul Bisht\",60000,'Java')\n",
    "dev3 = Developer(\"Piyush singh\",80000,'Python')\n",
    "\n",
    "print(dev1.email)\n",
    "print(dev1.prog_lang)\n",
    "print(dev2.email)\n",
    "print(dev2.prog_lang)"
   ]
  },
  {
   "cell_type": "code",
   "execution_count": 26,
   "metadata": {},
   "outputs": [],
   "source": [
    "class Manager(Employee):\n",
    "    def __init__(self, name, sal, employees) -> None:\n",
    "        super().__init__(name, sal)\n",
    "        if employees == None:\n",
    "            self.employees = []\n",
    "        else:\n",
    "            self.employees = employees\n",
    "    \n",
    "    def addEmployees(self , emp):\n",
    "        if emp not in self.employees:\n",
    "            self.employees.append(emp)\n",
    "    \n",
    "    def removeEmployees(self , emp):\n",
    "        if emp in self.employees:\n",
    "            self.employees.remove(emp)\n",
    "    \n",
    "    def printEmployees(self):\n",
    "        print(\"Manager \"+self.name)\n",
    "        for emp in self.employees:\n",
    "            print(' --> ',emp.name)"
   ]
  },
  {
   "cell_type": "code",
   "execution_count": 27,
   "metadata": {},
   "outputs": [
    {
     "name": "stdout",
     "output_type": "stream",
     "text": [
      "yash khati@company.com\n",
      "Manager yash khati\n",
      " -->  Rahul Bisht\n",
      "Manager yash khati\n",
      " -->  Rahul Bisht\n",
      " -->  Saurabh\n",
      " -->  Piyush singh\n"
     ]
    }
   ],
   "source": [
    "mng1 = Manager(\"yash khati\" , 90000,[dev2])\n",
    "print(mng1.email)\n",
    "\n",
    "mng1.printEmployees()\n",
    "\n",
    "mng1.addEmployees(dev1)\n",
    "mng1.addEmployees(dev3)\n",
    "\n",
    "mng1.printEmployees()\n"
   ]
  },
  {
   "cell_type": "code",
   "execution_count": 37,
   "metadata": {},
   "outputs": [
    {
     "name": "stdout",
     "output_type": "stream",
     "text": [
      "True\n",
      "True\n",
      "False\n"
     ]
    }
   ],
   "source": [
    "print(isinstance(mng1 , Manager))\n",
    "print(isinstance(mng1 , Employee))\n",
    "print(isinstance(mng1 , Developer))"
   ]
  },
  {
   "cell_type": "code",
   "execution_count": 36,
   "metadata": {},
   "outputs": [
    {
     "name": "stdout",
     "output_type": "stream",
     "text": [
      "True\n",
      "True\n",
      "False\n"
     ]
    }
   ],
   "source": [
    "print(issubclass(Manager , Manager))\n",
    "print(issubclass(Manager , Employee))\n",
    "print(isinstance(Manager , Developer))"
   ]
  },
  {
   "cell_type": "code",
   "execution_count": null,
   "metadata": {},
   "outputs": [],
   "source": []
  }
 ],
 "metadata": {
  "kernelspec": {
   "display_name": "Python 3",
   "language": "python",
   "name": "python3"
  },
  "language_info": {
   "codemirror_mode": {
    "name": "ipython",
    "version": 3
   },
   "file_extension": ".py",
   "mimetype": "text/x-python",
   "name": "python",
   "nbconvert_exporter": "python",
   "pygments_lexer": "ipython3",
   "version": "3.10.13"
  }
 },
 "nbformat": 4,
 "nbformat_minor": 2
}
