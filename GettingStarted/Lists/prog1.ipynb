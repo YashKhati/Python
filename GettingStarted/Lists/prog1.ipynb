{
 "cells": [
  {
   "cell_type": "markdown",
   "metadata": {},
   "source": [
    "List in Python"
   ]
  },
  {
   "cell_type": "code",
   "execution_count": 5,
   "metadata": {},
   "outputs": [
    {
     "name": "stdout",
     "output_type": "stream",
     "text": [
      "<class 'list'>\n",
      "<class 'list'>\n"
     ]
    }
   ],
   "source": [
    "ls = []\n",
    "print(type(ls))\n",
    "\n",
    "ls1 = list()\n",
    "print(type(ls1))\n"
   ]
  },
  {
   "cell_type": "code",
   "execution_count": 17,
   "metadata": {},
   "outputs": [
    {
     "name": "stdout",
     "output_type": "stream",
     "text": [
      "[1, 2, 3, 'yash', False, None]\n",
      "[1, 2, 3, 'yash', False, None]\n"
     ]
    }
   ],
   "source": [
    "l1 = [1,2,3,\"yash\",False,None]\n",
    "print(l1)\n",
    "\n",
    "l2 = list((1,2,3,\"yash\",False,None))\n",
    "print(l2)\n",
    "\n"
   ]
  },
  {
   "cell_type": "code",
   "execution_count": 18,
   "metadata": {},
   "outputs": [
    {
     "name": "stdout",
     "output_type": "stream",
     "text": [
      "[1, 2, 3, 'yash', False, None, 'One']\n",
      "[1, 2, 3, 'yash', False, None, 'One', ('two', 5)]\n"
     ]
    }
   ],
   "source": [
    "# append() add only single element at last position\n",
    "l1.append(\"One\")\n",
    "print(l1)\n",
    "\n",
    "# l1.append((\"two\",5)) -> error\n",
    "l1.append((\"two\",5))\n",
    "print(l1)"
   ]
  },
  {
   "cell_type": "code",
   "execution_count": 19,
   "metadata": {},
   "outputs": [
    {
     "name": "stdout",
     "output_type": "stream",
     "text": [
      "[1, 2, 'five', 3, 'yash', False, None]\n"
     ]
    }
   ],
   "source": [
    "# insert(i,ele) -> add ele at ith index \n",
    "l1 = [1,2,3,\"yash\",False,None]\n",
    "l1.insert(2,'five')\n",
    "print(l1)"
   ]
  },
  {
   "cell_type": "code",
   "execution_count": 21,
   "metadata": {},
   "outputs": [
    {
     "name": "stdout",
     "output_type": "stream",
     "text": [
      "[1, 2, 3, 'yash', False, None, 19, 22, 'hi']\n"
     ]
    }
   ],
   "source": [
    "# extend(e1,e2,e3,....)add multiple elements at once\n",
    "l1 = [1,2,3,\"yash\",False,None]\n",
    "l1.extend([19,22,\"hi\"])\n",
    "print(l1)"
   ]
  },
  {
   "cell_type": "code",
   "execution_count": 30,
   "metadata": {},
   "outputs": [
    {
     "name": "stdout",
     "output_type": "stream",
     "text": [
      "[1, 2, 'yash', False, None, 12, 3, 18, 3, 'Ayush']\n"
     ]
    }
   ],
   "source": [
    "# remove() -> remove first occurance of element\n",
    "l1  = [1,2,3,\"yash\",False,None,12,3,18,3,\"Ayush\"]\n",
    "\n",
    "l1.remove(3)\n",
    "print(l1)"
   ]
  },
  {
   "cell_type": "code",
   "execution_count": 31,
   "metadata": {},
   "outputs": [
    {
     "name": "stdout",
     "output_type": "stream",
     "text": [
      "[1, 2, 'yash', False, None, 12, 3, 18, 3]\n",
      "[1, 2, 'yash', None, 12, 3, 18, 3]\n"
     ]
    }
   ],
   "source": [
    "# pop() -> remove last element of list\n",
    "# pop(i) -> remove ith element of list\n",
    "\n",
    "l1.pop()\n",
    "print(l1)\n",
    "\n",
    "l1.pop(3)\n",
    "print(l1)"
   ]
  },
  {
   "cell_type": "code",
   "execution_count": 43,
   "metadata": {},
   "outputs": [
    {
     "name": "stdout",
     "output_type": "stream",
     "text": [
      "[1, 2, 'yash', None, 12, 3, 18, 3, 'shivam', 16, 23, 12, 3, True]\n",
      "[1, 2, 'yash', None, 12, 3, 18, 3, 'shivam', 16, 23, 12, 3, True, 1, 2, 'yash', None, 12, 3, 18, 3, 'shivam', 16, 23, 12, 3, True]\n"
     ]
    }
   ],
   "source": [
    "l1 = [1, 2, 'yash', None, 12, 3, 18, 3]\n",
    "l2 = [\"shivam\",16,23,12,3,True]\n",
    "l3 = l1+l2\n",
    "print(l3)\n",
    "l3 = l3*2\n",
    "print(l3)\n"
   ]
  },
  {
   "cell_type": "code",
   "execution_count": 68,
   "metadata": {},
   "outputs": [
    {
     "name": "stdout",
     "output_type": "stream",
     "text": [
      "[1, 2, 'yash', None, 12, 3, 18, 3, 'shivam', 16, 23, 12, 3, True]\n",
      "2\n",
      "4\n",
      "[1, 2, 'yash', None, 12, 3, 18, 3, 'shivam', 16, 23, 12, 3, True]\n",
      "[True, 3, 12, 23, 16, 'shivam', 3, 18, 3, 12, None, 'yash', 2, 1]\n",
      "[]\n"
     ]
    }
   ],
   "source": [
    "l1 =[1, 2, 'yash', None, 12, 3, 18, 3, 'shivam', 16, 23, 12, 3, True]\n",
    "print(l1)\n",
    "\n",
    "cn = l1.count(12)\n",
    "print(cn)\n",
    "\n",
    "indx = l1.index(12)\n",
    "print(indx)\n",
    "\n",
    "l2 = l1.copy()\n",
    "print(l2)\n",
    "\n",
    "# l2.sort() -> only possible for homogenous data types list\n",
    "# print(l2)\n",
    "l2.reverse()\n",
    "print(l2)\n",
    "\n",
    "l2.clear()\n",
    "print(l2)"
   ]
  },
  {
   "cell_type": "code",
   "execution_count": 63,
   "metadata": {},
   "outputs": [
    {
     "name": "stdout",
     "output_type": "stream",
     "text": [
      "[1, 2, 5, 18, 6, 8, 10, 12, -2, -9]\n",
      "<class 'list'>\n"
     ]
    }
   ],
   "source": [
    "l1 = list(map(int,input(\"Enter elements : \").split()))\n",
    "print(l1)\n",
    "print(type(l1))"
   ]
  },
  {
   "cell_type": "code",
   "execution_count": 69,
   "metadata": {},
   "outputs": [
    {
     "name": "stdout",
     "output_type": "stream",
     "text": [
      "[-9, -2, 1, 2, 5, 6, 8, 10, 12, 18]\n"
     ]
    }
   ],
   "source": [
    "l1 = [1, 2, 5, 18, 6, 8, 10, 12, -2, -9]\n",
    "\n",
    "l1.sort()\n",
    "print(l1)"
   ]
  }
 ],
 "metadata": {
  "kernelspec": {
   "display_name": "Python 3",
   "language": "python",
   "name": "python3"
  },
  "language_info": {
   "codemirror_mode": {
    "name": "ipython",
    "version": 3
   },
   "file_extension": ".py",
   "mimetype": "text/x-python",
   "name": "python",
   "nbconvert_exporter": "python",
   "pygments_lexer": "ipython3",
   "version": "3.10.13"
  }
 },
 "nbformat": 4,
 "nbformat_minor": 2
}
