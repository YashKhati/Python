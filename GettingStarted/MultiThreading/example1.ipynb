{
 "cells": [
  {
   "cell_type": "code",
   "execution_count": 1,
   "metadata": {},
   "outputs": [],
   "source": [
    "import threading"
   ]
  },
  {
   "cell_type": "markdown",
   "metadata": {},
   "source": [
    "### Creating Thread\n",
    "t1 = threading.Thread(target , args)\n",
    "target = fun to be executed by thread\n",
    "arg = argument to be passed to target fun\n",
    "\n",
    "### Start thread\n",
    "t1.start()\n",
    "\n",
    "### End Execution of Thread\n",
    "t1.join()"
   ]
  },
  {
   "cell_type": "code",
   "execution_count": 7,
   "metadata": {},
   "outputs": [
    {
     "name": "stdout",
     "output_type": "stream",
     "text": [
      "sleeping 1 sec\n",
      "sleeping 1 sec\n",
      "Prog end\n"
     ]
    },
    {
     "name": "stdout",
     "output_type": "stream",
     "text": [
      "Done Sleeping\n",
      "Done Sleeping\n"
     ]
    }
   ],
   "source": [
    "import time\n",
    "def fun1():\n",
    "    print(\"sleeping 1 sec\")\n",
    "    time.sleep(1)\n",
    "    print(\"Done Sleeping\")\n",
    "\n",
    "t1 = threading.Thread(target=fun1 )\n",
    "t2 = threading.Thread(target=fun1)\n",
    "\n",
    "t1.start()\n",
    "t2.start()\n",
    "\n",
    "print(\"Prog end\")\n",
    "\n",
    "\n"
   ]
  },
  {
   "cell_type": "code",
   "execution_count": 9,
   "metadata": {},
   "outputs": [
    {
     "name": "stdout",
     "output_type": "stream",
     "text": [
      "sleeping 1.5 second(s)...\n",
      "sleeping 1.5 second(s)...\n",
      "sleeping 1.5 second(s)...\n",
      "sleeping 1.5 second(s)...\n",
      "sleeping 1.5 second(s)...\n",
      "sleeping 1.5 second(s)...\n",
      "sleeping 1.5 second(s)...\n",
      "sleeping 1.5 second(s)...\n",
      "sleeping 1.5 second(s)...\n",
      "sleeping 1.5 second(s)...\n",
      "Done Sleeping\n",
      "Done Sleeping\n",
      "Done Sleeping\n",
      "Done Sleeping\n",
      "Done Sleeping\n",
      "Done Sleeping\n",
      "Done Sleeping\n",
      "Done Sleeping\n",
      "Done Sleeping\n",
      "Done Sleeping\n",
      "Prog end\n"
     ]
    }
   ],
   "source": [
    "import time\n",
    "def fun1(seconds):\n",
    "    print(f'sleeping {seconds} second(s)...')\n",
    "    time.sleep(seconds)\n",
    "    print(\"Done Sleeping\")\n",
    "\n",
    "threads = []\n",
    "for _ in range(10):\n",
    "    t1 = threading.Thread(target=fun1 , args=[1.5])\n",
    "    t1.start()\n",
    "    threads.append(t1)\n",
    "\n",
    "for thread in threads:\n",
    "    thread.join()\n",
    "\n",
    "print(\"Prog end\")\n"
   ]
  },
  {
   "cell_type": "code",
   "execution_count": 25,
   "metadata": {},
   "outputs": [
    {
     "name": "stdout",
     "output_type": "stream",
     "text": [
      "sleeping 5 second(s)...\n",
      "sleeping 4 second(s)...\n",
      "sleeping 3 second(s)...\n",
      "sleeping 2 second(s)...\n",
      "sleeping 1 second(s)...\n",
      "sleeping 9 second(s)...\n",
      "sleeping 6 second(s)...\n",
      "Done Sleeping... 1 \n",
      "Done Sleeping... 2 \n",
      "Done Sleeping... 3 \n",
      "Done Sleeping... 4 \n",
      "Done Sleeping... 5 \n",
      "Done Sleeping... 6 \n",
      "Done Sleeping... 9 \n",
      " Finished in 9.01 seconds(s)\n"
     ]
    }
   ],
   "source": [
    "import concurrent.futures\n",
    "import time\n",
    "start = time.perf_counter()\n",
    "\n",
    "def fun1(seconds):\n",
    "    print(f'sleeping {seconds} second(s)...')\n",
    "    time.sleep(seconds)\n",
    "    return f\"Done Sleeping... {seconds} \"\n",
    "\n",
    "with concurrent.futures.ThreadPoolExecutor() as executor:\n",
    "        secs = [5,4,3,2,1,9,6]\n",
    "        results =[executor.submit(fun1,sec) for sec in secs]\n",
    "        \n",
    "        for f in concurrent.futures.as_completed(results):\n",
    "              print(f.result())\n",
    "\n",
    "finish = time.perf_counter()\n",
    "\n",
    "print(f' Finished in {round (finish-start,2)} seconds(s)')\n"
   ]
  },
  {
   "cell_type": "code",
   "execution_count": 26,
   "metadata": {},
   "outputs": [
    {
     "name": "stdout",
     "output_type": "stream",
     "text": [
      "sleeping 5 second(s)...sleeping 4 second(s)...\n",
      "\n",
      "sleeping 3 second(s)...\n",
      "sleeping 2 second(s)...\n",
      "sleeping 1 second(s)...\n",
      "sleeping 9 second(s)...\n",
      "sleeping 6 second(s)...\n",
      "Done Sleeping... 5 \n",
      "Done Sleeping... 4 \n",
      "Done Sleeping... 3 \n",
      "Done Sleeping... 2 \n",
      "Done Sleeping... 1 \n",
      "Done Sleeping... 9 \n",
      "Done Sleeping... 6 \n",
      " Finished in 9.01 seconds(s)\n"
     ]
    }
   ],
   "source": [
    "# map return result as the thread was started\n",
    "import concurrent.futures\n",
    "import time\n",
    "start = time.perf_counter()\n",
    "\n",
    "def fun1(seconds):\n",
    "    print(f'sleeping {seconds} second(s)...')\n",
    "    time.sleep(seconds)\n",
    "    return f\"Done Sleeping... {seconds} \"\n",
    "\n",
    "with concurrent.futures.ThreadPoolExecutor() as executor:\n",
    "        secs = [5,4,3,2,1,9,6]\n",
    "        results =executor.map(fun1 , secs)\n",
    "\n",
    "        for result in results:\n",
    "             print(result)\n",
    "\n",
    "finish = time.perf_counter()\n",
    "\n",
    "print(f' Finished in {round (finish-start,2)} seconds(s)')\n"
   ]
  },
  {
   "cell_type": "code",
   "execution_count": null,
   "metadata": {},
   "outputs": [],
   "source": []
  }
 ],
 "metadata": {
  "kernelspec": {
   "display_name": "Python 3",
   "language": "python",
   "name": "python3"
  },
  "language_info": {
   "codemirror_mode": {
    "name": "ipython",
    "version": 3
   },
   "file_extension": ".py",
   "mimetype": "text/x-python",
   "name": "python",
   "nbconvert_exporter": "python",
   "pygments_lexer": "ipython3",
   "version": "3.10.13"
  }
 },
 "nbformat": 4,
 "nbformat_minor": 2
}
