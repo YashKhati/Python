{
 "cells": [
  {
   "cell_type": "code",
   "execution_count": 6,
   "metadata": {},
   "outputs": [
    {
     "name": "stdout",
     "output_type": "stream",
     "text": [
      "2\n",
      "4\n"
     ]
    }
   ],
   "source": [
    "x = int(2.3)\n",
    "print(x)\n",
    "\n",
    "# x = int(\"2.3\") ->error\n",
    "# print(x)\n",
    "\n",
    "x = int(\"4\")\n",
    "print(x)\n",
    "\n",
    "# z = int(\"4*2\") -> error\n",
    "# print(z)"
   ]
  },
  {
   "cell_type": "code",
   "execution_count": 7,
   "metadata": {},
   "outputs": [
    {
     "name": "stdout",
     "output_type": "stream",
     "text": [
      "4.0\n",
      "4.2\n"
     ]
    }
   ],
   "source": [
    "y = float(4)\n",
    "print(y)\n",
    "\n",
    "z = float(\"4.2\")\n",
    "print(z)\n"
   ]
  },
  {
   "cell_type": "code",
   "execution_count": 10,
   "metadata": {},
   "outputs": [
    {
     "name": "stdout",
     "output_type": "stream",
     "text": [
      "yash\n",
      "2\n",
      "<class 'str'>\n",
      "2.7\n",
      "<class 'str'>\n"
     ]
    }
   ],
   "source": [
    "x = str(\"yash\")\n",
    "print(x)\n",
    "\n",
    "x = str(2)\n",
    "print(x)\n",
    "print(type(x))\n",
    "\n",
    "x = str(2.7)\n",
    "print(x)\n",
    "print(type(x))\n",
    "\n",
    "\n"
   ]
  },
  {
   "cell_type": "code",
   "execution_count": null,
   "metadata": {},
   "outputs": [],
   "source": []
  }
 ],
 "metadata": {
  "kernelspec": {
   "display_name": "Python 3",
   "language": "python",
   "name": "python3"
  },
  "language_info": {
   "codemirror_mode": {
    "name": "ipython",
    "version": 3
   },
   "file_extension": ".py",
   "mimetype": "text/x-python",
   "name": "python",
   "nbconvert_exporter": "python",
   "pygments_lexer": "ipython3",
   "version": "3.10.13"
  }
 },
 "nbformat": 4,
 "nbformat_minor": 2
}
